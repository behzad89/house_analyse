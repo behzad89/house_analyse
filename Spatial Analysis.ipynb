{
 "cells": [
  {
   "cell_type": "markdown",
   "metadata": {},
   "source": [
    "## What is my name?"
   ]
  },
  {
   "cell_type": "markdown",
   "metadata": {},
   "source": [
    "# Very nice"
   ]
  },
  {
   "cell_type": "markdown",
   "metadata": {},
   "source": [
    "# Introduction"
   ]
  },
  {
   "cell_type": "markdown",
   "metadata": {},
   "source": [
    "Predicting house prices is an crucial to some companies including Zoopla, RightMove and Zillow. Theses companies apply statistical and machine learning techniques to specify the valuation of the houses. One of the methods which can be used for this purpose is regression analysis. Regression analysis is a statistical approch used to find the reason of the something occures which can be utilized for the future prediction. <br>\n",
    "there are some intresting relation between features of houses. For instance, the relationship between the number of floors in a house and the area of the land. It is obvious that as the number of the floor decrease, the area of the land increase so that in the city centers with tall building have smaller areas. Other examples is the relationship between the age of the buildings and their size. It is crucial to know since it presents how people's demand have been changed over time which can have impact on the social studies. on the other hands, changinf the size of the houses can also be interesting for economists to respond the question of the living cost when they only take into account the prices. "
   ]
  },
  {
   "cell_type": "markdown",
   "metadata": {},
   "source": [
    "## Dataset"
   ]
  },
  {
   "cell_type": "markdown",
   "metadata": {},
   "source": [
    "The dataset of the house prices for the king county located in the Washington Sate in the USA was used was downloaded from the king GISportal. The dataset includes 21,613 obsevation with 19 features. Table 1 shows the features: <br> For this study 6 areas based on the zip codes which includes large number of the observation was selected."
   ]
  },
  {
   "cell_type": "markdown",
   "metadata": {},
   "source": [
    "## Mrthodology"
   ]
  },
  {
   "cell_type": "markdown",
   "metadata": {},
   "source": [
    "## Scripts"
   ]
  },
  {
   "cell_type": "code",
   "execution_count": 1,
   "metadata": {
    "collapsed": true
   },
   "outputs": [],
   "source": [
    "import graphlab as gl"
   ]
  },
  {
   "cell_type": "code",
   "execution_count": 2,
   "metadata": {
    "collapsed": false
   },
   "outputs": [
    {
     "name": "stderr",
     "output_type": "stream",
     "text": [
      "[INFO] graphlab.cython.cy_server: GraphLab Create v2.1 started. Logging: C:\\Users\\R_Python\\AppData\\Local\\Temp\\graphlab_server_1548862532.log.0\n"
     ]
    },
    {
     "name": "stdout",
     "output_type": "stream",
     "text": [
      "This non-commercial license of GraphLab Create for academic use is assigned to behzad.valipour@ut.ee and will expire on January 02, 2020.\n"
     ]
    }
   ],
   "source": [
    "gl.set_runtime_config('GRAPHLAB_DEFAULT_NUM_PYLAMBDA_WORKERS',4)"
   ]
  },
  {
   "cell_type": "code",
   "execution_count": 3,
   "metadata": {
    "collapsed": false
   },
   "outputs": [
    {
     "data": {
      "text/html": [
       "<pre>Finished parsing file C:\\Users\\R_Python\\ML\\Week02_Practice\\home_data.csv</pre>"
      ],
      "text/plain": [
       "Finished parsing file C:\\Users\\R_Python\\ML\\Week02_Practice\\home_data.csv"
      ]
     },
     "metadata": {},
     "output_type": "display_data"
    },
    {
     "data": {
      "text/html": [
       "<pre>Parsing completed. Parsed 100 lines in 0.095005 secs.</pre>"
      ],
      "text/plain": [
       "Parsing completed. Parsed 100 lines in 0.095005 secs."
      ]
     },
     "metadata": {},
     "output_type": "display_data"
    },
    {
     "name": "stdout",
     "output_type": "stream",
     "text": [
      "------------------------------------------------------\n",
      "Inferred types from first 100 line(s) of file as \n",
      "column_type_hints=[long,str,long,long,float,long,long,float,long,long,long,long,long,long,long,long,long,float,float,long,long]\n",
      "If parsing fails due to incorrect types, you can correct\n",
      "the inferred type list above and pass it to read_csv in\n",
      "the column_type_hints argument\n",
      "------------------------------------------------------\n"
     ]
    },
    {
     "data": {
      "text/html": [
       "<pre>Finished parsing file C:\\Users\\R_Python\\ML\\Week02_Practice\\home_data.csv</pre>"
      ],
      "text/plain": [
       "Finished parsing file C:\\Users\\R_Python\\ML\\Week02_Practice\\home_data.csv"
      ]
     },
     "metadata": {},
     "output_type": "display_data"
    },
    {
     "data": {
      "text/html": [
       "<pre>Parsing completed. Parsed 21613 lines in 0.088005 secs.</pre>"
      ],
      "text/plain": [
       "Parsing completed. Parsed 21613 lines in 0.088005 secs."
      ]
     },
     "metadata": {},
     "output_type": "display_data"
    }
   ],
   "source": [
    "house_data = gl.SFrame(\"C:\\Users\\R_Python\\ML\\Week02_Practice\\home_data.csv\")"
   ]
  },
  {
   "cell_type": "code",
   "execution_count": 4,
   "metadata": {
    "collapsed": false,
    "scrolled": true
   },
   "outputs": [
    {
     "data": {
      "text/html": [
       "<div style=\"max-height:1000px;max-width:1500px;overflow:auto;\"><table frame=\"box\" rules=\"cols\">\n",
       "    <tr>\n",
       "        <th style=\"padding-left: 1em; padding-right: 1em; text-align: center\">id</th>\n",
       "        <th style=\"padding-left: 1em; padding-right: 1em; text-align: center\">date</th>\n",
       "        <th style=\"padding-left: 1em; padding-right: 1em; text-align: center\">price</th>\n",
       "        <th style=\"padding-left: 1em; padding-right: 1em; text-align: center\">bedrooms</th>\n",
       "        <th style=\"padding-left: 1em; padding-right: 1em; text-align: center\">bathrooms</th>\n",
       "        <th style=\"padding-left: 1em; padding-right: 1em; text-align: center\">sqft_living</th>\n",
       "        <th style=\"padding-left: 1em; padding-right: 1em; text-align: center\">sqft_lot</th>\n",
       "        <th style=\"padding-left: 1em; padding-right: 1em; text-align: center\">floors</th>\n",
       "        <th style=\"padding-left: 1em; padding-right: 1em; text-align: center\">waterfront</th>\n",
       "        <th style=\"padding-left: 1em; padding-right: 1em; text-align: center\">view</th>\n",
       "    </tr>\n",
       "    <tr>\n",
       "        <td style=\"padding-left: 1em; padding-right: 1em; text-align: center; vertical-align: top\">7129300520</td>\n",
       "        <td style=\"padding-left: 1em; padding-right: 1em; text-align: center; vertical-align: top\">20141013T000000</td>\n",
       "        <td style=\"padding-left: 1em; padding-right: 1em; text-align: center; vertical-align: top\">221900</td>\n",
       "        <td style=\"padding-left: 1em; padding-right: 1em; text-align: center; vertical-align: top\">3</td>\n",
       "        <td style=\"padding-left: 1em; padding-right: 1em; text-align: center; vertical-align: top\">1.0</td>\n",
       "        <td style=\"padding-left: 1em; padding-right: 1em; text-align: center; vertical-align: top\">1180</td>\n",
       "        <td style=\"padding-left: 1em; padding-right: 1em; text-align: center; vertical-align: top\">5650</td>\n",
       "        <td style=\"padding-left: 1em; padding-right: 1em; text-align: center; vertical-align: top\">1.0</td>\n",
       "        <td style=\"padding-left: 1em; padding-right: 1em; text-align: center; vertical-align: top\">0</td>\n",
       "        <td style=\"padding-left: 1em; padding-right: 1em; text-align: center; vertical-align: top\">0</td>\n",
       "    </tr>\n",
       "    <tr>\n",
       "        <td style=\"padding-left: 1em; padding-right: 1em; text-align: center; vertical-align: top\">6414100192</td>\n",
       "        <td style=\"padding-left: 1em; padding-right: 1em; text-align: center; vertical-align: top\">20141209T000000</td>\n",
       "        <td style=\"padding-left: 1em; padding-right: 1em; text-align: center; vertical-align: top\">538000</td>\n",
       "        <td style=\"padding-left: 1em; padding-right: 1em; text-align: center; vertical-align: top\">3</td>\n",
       "        <td style=\"padding-left: 1em; padding-right: 1em; text-align: center; vertical-align: top\">2.25</td>\n",
       "        <td style=\"padding-left: 1em; padding-right: 1em; text-align: center; vertical-align: top\">2570</td>\n",
       "        <td style=\"padding-left: 1em; padding-right: 1em; text-align: center; vertical-align: top\">7242</td>\n",
       "        <td style=\"padding-left: 1em; padding-right: 1em; text-align: center; vertical-align: top\">2.0</td>\n",
       "        <td style=\"padding-left: 1em; padding-right: 1em; text-align: center; vertical-align: top\">0</td>\n",
       "        <td style=\"padding-left: 1em; padding-right: 1em; text-align: center; vertical-align: top\">0</td>\n",
       "    </tr>\n",
       "    <tr>\n",
       "        <td style=\"padding-left: 1em; padding-right: 1em; text-align: center; vertical-align: top\">5631500400</td>\n",
       "        <td style=\"padding-left: 1em; padding-right: 1em; text-align: center; vertical-align: top\">20150225T000000</td>\n",
       "        <td style=\"padding-left: 1em; padding-right: 1em; text-align: center; vertical-align: top\">180000</td>\n",
       "        <td style=\"padding-left: 1em; padding-right: 1em; text-align: center; vertical-align: top\">2</td>\n",
       "        <td style=\"padding-left: 1em; padding-right: 1em; text-align: center; vertical-align: top\">1.0</td>\n",
       "        <td style=\"padding-left: 1em; padding-right: 1em; text-align: center; vertical-align: top\">770</td>\n",
       "        <td style=\"padding-left: 1em; padding-right: 1em; text-align: center; vertical-align: top\">10000</td>\n",
       "        <td style=\"padding-left: 1em; padding-right: 1em; text-align: center; vertical-align: top\">1.0</td>\n",
       "        <td style=\"padding-left: 1em; padding-right: 1em; text-align: center; vertical-align: top\">0</td>\n",
       "        <td style=\"padding-left: 1em; padding-right: 1em; text-align: center; vertical-align: top\">0</td>\n",
       "    </tr>\n",
       "    <tr>\n",
       "        <td style=\"padding-left: 1em; padding-right: 1em; text-align: center; vertical-align: top\">2487200875</td>\n",
       "        <td style=\"padding-left: 1em; padding-right: 1em; text-align: center; vertical-align: top\">20141209T000000</td>\n",
       "        <td style=\"padding-left: 1em; padding-right: 1em; text-align: center; vertical-align: top\">604000</td>\n",
       "        <td style=\"padding-left: 1em; padding-right: 1em; text-align: center; vertical-align: top\">4</td>\n",
       "        <td style=\"padding-left: 1em; padding-right: 1em; text-align: center; vertical-align: top\">3.0</td>\n",
       "        <td style=\"padding-left: 1em; padding-right: 1em; text-align: center; vertical-align: top\">1960</td>\n",
       "        <td style=\"padding-left: 1em; padding-right: 1em; text-align: center; vertical-align: top\">5000</td>\n",
       "        <td style=\"padding-left: 1em; padding-right: 1em; text-align: center; vertical-align: top\">1.0</td>\n",
       "        <td style=\"padding-left: 1em; padding-right: 1em; text-align: center; vertical-align: top\">0</td>\n",
       "        <td style=\"padding-left: 1em; padding-right: 1em; text-align: center; vertical-align: top\">0</td>\n",
       "    </tr>\n",
       "    <tr>\n",
       "        <td style=\"padding-left: 1em; padding-right: 1em; text-align: center; vertical-align: top\">1954400510</td>\n",
       "        <td style=\"padding-left: 1em; padding-right: 1em; text-align: center; vertical-align: top\">20150218T000000</td>\n",
       "        <td style=\"padding-left: 1em; padding-right: 1em; text-align: center; vertical-align: top\">510000</td>\n",
       "        <td style=\"padding-left: 1em; padding-right: 1em; text-align: center; vertical-align: top\">3</td>\n",
       "        <td style=\"padding-left: 1em; padding-right: 1em; text-align: center; vertical-align: top\">2.0</td>\n",
       "        <td style=\"padding-left: 1em; padding-right: 1em; text-align: center; vertical-align: top\">1680</td>\n",
       "        <td style=\"padding-left: 1em; padding-right: 1em; text-align: center; vertical-align: top\">8080</td>\n",
       "        <td style=\"padding-left: 1em; padding-right: 1em; text-align: center; vertical-align: top\">1.0</td>\n",
       "        <td style=\"padding-left: 1em; padding-right: 1em; text-align: center; vertical-align: top\">0</td>\n",
       "        <td style=\"padding-left: 1em; padding-right: 1em; text-align: center; vertical-align: top\">0</td>\n",
       "    </tr>\n",
       "    <tr>\n",
       "        <td style=\"padding-left: 1em; padding-right: 1em; text-align: center; vertical-align: top\">7237550310</td>\n",
       "        <td style=\"padding-left: 1em; padding-right: 1em; text-align: center; vertical-align: top\">20140512T000000</td>\n",
       "        <td style=\"padding-left: 1em; padding-right: 1em; text-align: center; vertical-align: top\">1225000</td>\n",
       "        <td style=\"padding-left: 1em; padding-right: 1em; text-align: center; vertical-align: top\">4</td>\n",
       "        <td style=\"padding-left: 1em; padding-right: 1em; text-align: center; vertical-align: top\">4.5</td>\n",
       "        <td style=\"padding-left: 1em; padding-right: 1em; text-align: center; vertical-align: top\">5420</td>\n",
       "        <td style=\"padding-left: 1em; padding-right: 1em; text-align: center; vertical-align: top\">101930</td>\n",
       "        <td style=\"padding-left: 1em; padding-right: 1em; text-align: center; vertical-align: top\">1.0</td>\n",
       "        <td style=\"padding-left: 1em; padding-right: 1em; text-align: center; vertical-align: top\">0</td>\n",
       "        <td style=\"padding-left: 1em; padding-right: 1em; text-align: center; vertical-align: top\">0</td>\n",
       "    </tr>\n",
       "    <tr>\n",
       "        <td style=\"padding-left: 1em; padding-right: 1em; text-align: center; vertical-align: top\">1321400060</td>\n",
       "        <td style=\"padding-left: 1em; padding-right: 1em; text-align: center; vertical-align: top\">20140627T000000</td>\n",
       "        <td style=\"padding-left: 1em; padding-right: 1em; text-align: center; vertical-align: top\">257500</td>\n",
       "        <td style=\"padding-left: 1em; padding-right: 1em; text-align: center; vertical-align: top\">3</td>\n",
       "        <td style=\"padding-left: 1em; padding-right: 1em; text-align: center; vertical-align: top\">2.25</td>\n",
       "        <td style=\"padding-left: 1em; padding-right: 1em; text-align: center; vertical-align: top\">1715</td>\n",
       "        <td style=\"padding-left: 1em; padding-right: 1em; text-align: center; vertical-align: top\">6819</td>\n",
       "        <td style=\"padding-left: 1em; padding-right: 1em; text-align: center; vertical-align: top\">2.0</td>\n",
       "        <td style=\"padding-left: 1em; padding-right: 1em; text-align: center; vertical-align: top\">0</td>\n",
       "        <td style=\"padding-left: 1em; padding-right: 1em; text-align: center; vertical-align: top\">0</td>\n",
       "    </tr>\n",
       "    <tr>\n",
       "        <td style=\"padding-left: 1em; padding-right: 1em; text-align: center; vertical-align: top\">2008000270</td>\n",
       "        <td style=\"padding-left: 1em; padding-right: 1em; text-align: center; vertical-align: top\">20150115T000000</td>\n",
       "        <td style=\"padding-left: 1em; padding-right: 1em; text-align: center; vertical-align: top\">291850</td>\n",
       "        <td style=\"padding-left: 1em; padding-right: 1em; text-align: center; vertical-align: top\">3</td>\n",
       "        <td style=\"padding-left: 1em; padding-right: 1em; text-align: center; vertical-align: top\">1.5</td>\n",
       "        <td style=\"padding-left: 1em; padding-right: 1em; text-align: center; vertical-align: top\">1060</td>\n",
       "        <td style=\"padding-left: 1em; padding-right: 1em; text-align: center; vertical-align: top\">9711</td>\n",
       "        <td style=\"padding-left: 1em; padding-right: 1em; text-align: center; vertical-align: top\">1.0</td>\n",
       "        <td style=\"padding-left: 1em; padding-right: 1em; text-align: center; vertical-align: top\">0</td>\n",
       "        <td style=\"padding-left: 1em; padding-right: 1em; text-align: center; vertical-align: top\">0</td>\n",
       "    </tr>\n",
       "    <tr>\n",
       "        <td style=\"padding-left: 1em; padding-right: 1em; text-align: center; vertical-align: top\">2414600126</td>\n",
       "        <td style=\"padding-left: 1em; padding-right: 1em; text-align: center; vertical-align: top\">20150415T000000</td>\n",
       "        <td style=\"padding-left: 1em; padding-right: 1em; text-align: center; vertical-align: top\">229500</td>\n",
       "        <td style=\"padding-left: 1em; padding-right: 1em; text-align: center; vertical-align: top\">3</td>\n",
       "        <td style=\"padding-left: 1em; padding-right: 1em; text-align: center; vertical-align: top\">1.0</td>\n",
       "        <td style=\"padding-left: 1em; padding-right: 1em; text-align: center; vertical-align: top\">1780</td>\n",
       "        <td style=\"padding-left: 1em; padding-right: 1em; text-align: center; vertical-align: top\">7470</td>\n",
       "        <td style=\"padding-left: 1em; padding-right: 1em; text-align: center; vertical-align: top\">1.0</td>\n",
       "        <td style=\"padding-left: 1em; padding-right: 1em; text-align: center; vertical-align: top\">0</td>\n",
       "        <td style=\"padding-left: 1em; padding-right: 1em; text-align: center; vertical-align: top\">0</td>\n",
       "    </tr>\n",
       "    <tr>\n",
       "        <td style=\"padding-left: 1em; padding-right: 1em; text-align: center; vertical-align: top\">3793500160</td>\n",
       "        <td style=\"padding-left: 1em; padding-right: 1em; text-align: center; vertical-align: top\">20150312T000000</td>\n",
       "        <td style=\"padding-left: 1em; padding-right: 1em; text-align: center; vertical-align: top\">323000</td>\n",
       "        <td style=\"padding-left: 1em; padding-right: 1em; text-align: center; vertical-align: top\">3</td>\n",
       "        <td style=\"padding-left: 1em; padding-right: 1em; text-align: center; vertical-align: top\">2.5</td>\n",
       "        <td style=\"padding-left: 1em; padding-right: 1em; text-align: center; vertical-align: top\">1890</td>\n",
       "        <td style=\"padding-left: 1em; padding-right: 1em; text-align: center; vertical-align: top\">6560</td>\n",
       "        <td style=\"padding-left: 1em; padding-right: 1em; text-align: center; vertical-align: top\">2.0</td>\n",
       "        <td style=\"padding-left: 1em; padding-right: 1em; text-align: center; vertical-align: top\">0</td>\n",
       "        <td style=\"padding-left: 1em; padding-right: 1em; text-align: center; vertical-align: top\">0</td>\n",
       "    </tr>\n",
       "</table>\n",
       "<table frame=\"box\" rules=\"cols\">\n",
       "    <tr>\n",
       "        <th style=\"padding-left: 1em; padding-right: 1em; text-align: center\">condition</th>\n",
       "        <th style=\"padding-left: 1em; padding-right: 1em; text-align: center\">grade</th>\n",
       "        <th style=\"padding-left: 1em; padding-right: 1em; text-align: center\">sqft_above</th>\n",
       "        <th style=\"padding-left: 1em; padding-right: 1em; text-align: center\">sqft_basement</th>\n",
       "        <th style=\"padding-left: 1em; padding-right: 1em; text-align: center\">yr_built</th>\n",
       "        <th style=\"padding-left: 1em; padding-right: 1em; text-align: center\">yr_renovated</th>\n",
       "        <th style=\"padding-left: 1em; padding-right: 1em; text-align: center\">zipcode</th>\n",
       "        <th style=\"padding-left: 1em; padding-right: 1em; text-align: center\">lat</th>\n",
       "        <th style=\"padding-left: 1em; padding-right: 1em; text-align: center\">long</th>\n",
       "        <th style=\"padding-left: 1em; padding-right: 1em; text-align: center\">sqft_living15</th>\n",
       "    </tr>\n",
       "    <tr>\n",
       "        <td style=\"padding-left: 1em; padding-right: 1em; text-align: center; vertical-align: top\">3</td>\n",
       "        <td style=\"padding-left: 1em; padding-right: 1em; text-align: center; vertical-align: top\">7</td>\n",
       "        <td style=\"padding-left: 1em; padding-right: 1em; text-align: center; vertical-align: top\">1180</td>\n",
       "        <td style=\"padding-left: 1em; padding-right: 1em; text-align: center; vertical-align: top\">0</td>\n",
       "        <td style=\"padding-left: 1em; padding-right: 1em; text-align: center; vertical-align: top\">1955</td>\n",
       "        <td style=\"padding-left: 1em; padding-right: 1em; text-align: center; vertical-align: top\">0</td>\n",
       "        <td style=\"padding-left: 1em; padding-right: 1em; text-align: center; vertical-align: top\">98178</td>\n",
       "        <td style=\"padding-left: 1em; padding-right: 1em; text-align: center; vertical-align: top\">47.5112</td>\n",
       "        <td style=\"padding-left: 1em; padding-right: 1em; text-align: center; vertical-align: top\">-122.257</td>\n",
       "        <td style=\"padding-left: 1em; padding-right: 1em; text-align: center; vertical-align: top\">1340</td>\n",
       "    </tr>\n",
       "    <tr>\n",
       "        <td style=\"padding-left: 1em; padding-right: 1em; text-align: center; vertical-align: top\">3</td>\n",
       "        <td style=\"padding-left: 1em; padding-right: 1em; text-align: center; vertical-align: top\">7</td>\n",
       "        <td style=\"padding-left: 1em; padding-right: 1em; text-align: center; vertical-align: top\">2170</td>\n",
       "        <td style=\"padding-left: 1em; padding-right: 1em; text-align: center; vertical-align: top\">400</td>\n",
       "        <td style=\"padding-left: 1em; padding-right: 1em; text-align: center; vertical-align: top\">1951</td>\n",
       "        <td style=\"padding-left: 1em; padding-right: 1em; text-align: center; vertical-align: top\">1991</td>\n",
       "        <td style=\"padding-left: 1em; padding-right: 1em; text-align: center; vertical-align: top\">98125</td>\n",
       "        <td style=\"padding-left: 1em; padding-right: 1em; text-align: center; vertical-align: top\">47.721</td>\n",
       "        <td style=\"padding-left: 1em; padding-right: 1em; text-align: center; vertical-align: top\">-122.319</td>\n",
       "        <td style=\"padding-left: 1em; padding-right: 1em; text-align: center; vertical-align: top\">1690</td>\n",
       "    </tr>\n",
       "    <tr>\n",
       "        <td style=\"padding-left: 1em; padding-right: 1em; text-align: center; vertical-align: top\">3</td>\n",
       "        <td style=\"padding-left: 1em; padding-right: 1em; text-align: center; vertical-align: top\">6</td>\n",
       "        <td style=\"padding-left: 1em; padding-right: 1em; text-align: center; vertical-align: top\">770</td>\n",
       "        <td style=\"padding-left: 1em; padding-right: 1em; text-align: center; vertical-align: top\">0</td>\n",
       "        <td style=\"padding-left: 1em; padding-right: 1em; text-align: center; vertical-align: top\">1933</td>\n",
       "        <td style=\"padding-left: 1em; padding-right: 1em; text-align: center; vertical-align: top\">0</td>\n",
       "        <td style=\"padding-left: 1em; padding-right: 1em; text-align: center; vertical-align: top\">98028</td>\n",
       "        <td style=\"padding-left: 1em; padding-right: 1em; text-align: center; vertical-align: top\">47.7379</td>\n",
       "        <td style=\"padding-left: 1em; padding-right: 1em; text-align: center; vertical-align: top\">-122.233</td>\n",
       "        <td style=\"padding-left: 1em; padding-right: 1em; text-align: center; vertical-align: top\">2720</td>\n",
       "    </tr>\n",
       "    <tr>\n",
       "        <td style=\"padding-left: 1em; padding-right: 1em; text-align: center; vertical-align: top\">5</td>\n",
       "        <td style=\"padding-left: 1em; padding-right: 1em; text-align: center; vertical-align: top\">7</td>\n",
       "        <td style=\"padding-left: 1em; padding-right: 1em; text-align: center; vertical-align: top\">1050</td>\n",
       "        <td style=\"padding-left: 1em; padding-right: 1em; text-align: center; vertical-align: top\">910</td>\n",
       "        <td style=\"padding-left: 1em; padding-right: 1em; text-align: center; vertical-align: top\">1965</td>\n",
       "        <td style=\"padding-left: 1em; padding-right: 1em; text-align: center; vertical-align: top\">0</td>\n",
       "        <td style=\"padding-left: 1em; padding-right: 1em; text-align: center; vertical-align: top\">98136</td>\n",
       "        <td style=\"padding-left: 1em; padding-right: 1em; text-align: center; vertical-align: top\">47.5208</td>\n",
       "        <td style=\"padding-left: 1em; padding-right: 1em; text-align: center; vertical-align: top\">-122.393</td>\n",
       "        <td style=\"padding-left: 1em; padding-right: 1em; text-align: center; vertical-align: top\">1360</td>\n",
       "    </tr>\n",
       "    <tr>\n",
       "        <td style=\"padding-left: 1em; padding-right: 1em; text-align: center; vertical-align: top\">3</td>\n",
       "        <td style=\"padding-left: 1em; padding-right: 1em; text-align: center; vertical-align: top\">8</td>\n",
       "        <td style=\"padding-left: 1em; padding-right: 1em; text-align: center; vertical-align: top\">1680</td>\n",
       "        <td style=\"padding-left: 1em; padding-right: 1em; text-align: center; vertical-align: top\">0</td>\n",
       "        <td style=\"padding-left: 1em; padding-right: 1em; text-align: center; vertical-align: top\">1987</td>\n",
       "        <td style=\"padding-left: 1em; padding-right: 1em; text-align: center; vertical-align: top\">0</td>\n",
       "        <td style=\"padding-left: 1em; padding-right: 1em; text-align: center; vertical-align: top\">98074</td>\n",
       "        <td style=\"padding-left: 1em; padding-right: 1em; text-align: center; vertical-align: top\">47.6168</td>\n",
       "        <td style=\"padding-left: 1em; padding-right: 1em; text-align: center; vertical-align: top\">-122.045</td>\n",
       "        <td style=\"padding-left: 1em; padding-right: 1em; text-align: center; vertical-align: top\">1800</td>\n",
       "    </tr>\n",
       "    <tr>\n",
       "        <td style=\"padding-left: 1em; padding-right: 1em; text-align: center; vertical-align: top\">3</td>\n",
       "        <td style=\"padding-left: 1em; padding-right: 1em; text-align: center; vertical-align: top\">11</td>\n",
       "        <td style=\"padding-left: 1em; padding-right: 1em; text-align: center; vertical-align: top\">3890</td>\n",
       "        <td style=\"padding-left: 1em; padding-right: 1em; text-align: center; vertical-align: top\">1530</td>\n",
       "        <td style=\"padding-left: 1em; padding-right: 1em; text-align: center; vertical-align: top\">2001</td>\n",
       "        <td style=\"padding-left: 1em; padding-right: 1em; text-align: center; vertical-align: top\">0</td>\n",
       "        <td style=\"padding-left: 1em; padding-right: 1em; text-align: center; vertical-align: top\">98053</td>\n",
       "        <td style=\"padding-left: 1em; padding-right: 1em; text-align: center; vertical-align: top\">47.6561</td>\n",
       "        <td style=\"padding-left: 1em; padding-right: 1em; text-align: center; vertical-align: top\">-122.005</td>\n",
       "        <td style=\"padding-left: 1em; padding-right: 1em; text-align: center; vertical-align: top\">4760</td>\n",
       "    </tr>\n",
       "    <tr>\n",
       "        <td style=\"padding-left: 1em; padding-right: 1em; text-align: center; vertical-align: top\">3</td>\n",
       "        <td style=\"padding-left: 1em; padding-right: 1em; text-align: center; vertical-align: top\">7</td>\n",
       "        <td style=\"padding-left: 1em; padding-right: 1em; text-align: center; vertical-align: top\">1715</td>\n",
       "        <td style=\"padding-left: 1em; padding-right: 1em; text-align: center; vertical-align: top\">0</td>\n",
       "        <td style=\"padding-left: 1em; padding-right: 1em; text-align: center; vertical-align: top\">1995</td>\n",
       "        <td style=\"padding-left: 1em; padding-right: 1em; text-align: center; vertical-align: top\">0</td>\n",
       "        <td style=\"padding-left: 1em; padding-right: 1em; text-align: center; vertical-align: top\">98003</td>\n",
       "        <td style=\"padding-left: 1em; padding-right: 1em; text-align: center; vertical-align: top\">47.3097</td>\n",
       "        <td style=\"padding-left: 1em; padding-right: 1em; text-align: center; vertical-align: top\">-122.327</td>\n",
       "        <td style=\"padding-left: 1em; padding-right: 1em; text-align: center; vertical-align: top\">2238</td>\n",
       "    </tr>\n",
       "    <tr>\n",
       "        <td style=\"padding-left: 1em; padding-right: 1em; text-align: center; vertical-align: top\">3</td>\n",
       "        <td style=\"padding-left: 1em; padding-right: 1em; text-align: center; vertical-align: top\">7</td>\n",
       "        <td style=\"padding-left: 1em; padding-right: 1em; text-align: center; vertical-align: top\">1060</td>\n",
       "        <td style=\"padding-left: 1em; padding-right: 1em; text-align: center; vertical-align: top\">0</td>\n",
       "        <td style=\"padding-left: 1em; padding-right: 1em; text-align: center; vertical-align: top\">1963</td>\n",
       "        <td style=\"padding-left: 1em; padding-right: 1em; text-align: center; vertical-align: top\">0</td>\n",
       "        <td style=\"padding-left: 1em; padding-right: 1em; text-align: center; vertical-align: top\">98198</td>\n",
       "        <td style=\"padding-left: 1em; padding-right: 1em; text-align: center; vertical-align: top\">47.4095</td>\n",
       "        <td style=\"padding-left: 1em; padding-right: 1em; text-align: center; vertical-align: top\">-122.315</td>\n",
       "        <td style=\"padding-left: 1em; padding-right: 1em; text-align: center; vertical-align: top\">1650</td>\n",
       "    </tr>\n",
       "    <tr>\n",
       "        <td style=\"padding-left: 1em; padding-right: 1em; text-align: center; vertical-align: top\">3</td>\n",
       "        <td style=\"padding-left: 1em; padding-right: 1em; text-align: center; vertical-align: top\">7</td>\n",
       "        <td style=\"padding-left: 1em; padding-right: 1em; text-align: center; vertical-align: top\">1050</td>\n",
       "        <td style=\"padding-left: 1em; padding-right: 1em; text-align: center; vertical-align: top\">730</td>\n",
       "        <td style=\"padding-left: 1em; padding-right: 1em; text-align: center; vertical-align: top\">1960</td>\n",
       "        <td style=\"padding-left: 1em; padding-right: 1em; text-align: center; vertical-align: top\">0</td>\n",
       "        <td style=\"padding-left: 1em; padding-right: 1em; text-align: center; vertical-align: top\">98146</td>\n",
       "        <td style=\"padding-left: 1em; padding-right: 1em; text-align: center; vertical-align: top\">47.5123</td>\n",
       "        <td style=\"padding-left: 1em; padding-right: 1em; text-align: center; vertical-align: top\">-122.337</td>\n",
       "        <td style=\"padding-left: 1em; padding-right: 1em; text-align: center; vertical-align: top\">1780</td>\n",
       "    </tr>\n",
       "    <tr>\n",
       "        <td style=\"padding-left: 1em; padding-right: 1em; text-align: center; vertical-align: top\">3</td>\n",
       "        <td style=\"padding-left: 1em; padding-right: 1em; text-align: center; vertical-align: top\">7</td>\n",
       "        <td style=\"padding-left: 1em; padding-right: 1em; text-align: center; vertical-align: top\">1890</td>\n",
       "        <td style=\"padding-left: 1em; padding-right: 1em; text-align: center; vertical-align: top\">0</td>\n",
       "        <td style=\"padding-left: 1em; padding-right: 1em; text-align: center; vertical-align: top\">2003</td>\n",
       "        <td style=\"padding-left: 1em; padding-right: 1em; text-align: center; vertical-align: top\">0</td>\n",
       "        <td style=\"padding-left: 1em; padding-right: 1em; text-align: center; vertical-align: top\">98038</td>\n",
       "        <td style=\"padding-left: 1em; padding-right: 1em; text-align: center; vertical-align: top\">47.3684</td>\n",
       "        <td style=\"padding-left: 1em; padding-right: 1em; text-align: center; vertical-align: top\">-122.031</td>\n",
       "        <td style=\"padding-left: 1em; padding-right: 1em; text-align: center; vertical-align: top\">2390</td>\n",
       "    </tr>\n",
       "</table>\n",
       "<table frame=\"box\" rules=\"cols\">\n",
       "    <tr>\n",
       "        <th style=\"padding-left: 1em; padding-right: 1em; text-align: center\">sqft_lot15</th>\n",
       "    </tr>\n",
       "    <tr>\n",
       "        <td style=\"padding-left: 1em; padding-right: 1em; text-align: center; vertical-align: top\">5650</td>\n",
       "    </tr>\n",
       "    <tr>\n",
       "        <td style=\"padding-left: 1em; padding-right: 1em; text-align: center; vertical-align: top\">7639</td>\n",
       "    </tr>\n",
       "    <tr>\n",
       "        <td style=\"padding-left: 1em; padding-right: 1em; text-align: center; vertical-align: top\">8062</td>\n",
       "    </tr>\n",
       "    <tr>\n",
       "        <td style=\"padding-left: 1em; padding-right: 1em; text-align: center; vertical-align: top\">5000</td>\n",
       "    </tr>\n",
       "    <tr>\n",
       "        <td style=\"padding-left: 1em; padding-right: 1em; text-align: center; vertical-align: top\">7503</td>\n",
       "    </tr>\n",
       "    <tr>\n",
       "        <td style=\"padding-left: 1em; padding-right: 1em; text-align: center; vertical-align: top\">101930</td>\n",
       "    </tr>\n",
       "    <tr>\n",
       "        <td style=\"padding-left: 1em; padding-right: 1em; text-align: center; vertical-align: top\">6819</td>\n",
       "    </tr>\n",
       "    <tr>\n",
       "        <td style=\"padding-left: 1em; padding-right: 1em; text-align: center; vertical-align: top\">9711</td>\n",
       "    </tr>\n",
       "    <tr>\n",
       "        <td style=\"padding-left: 1em; padding-right: 1em; text-align: center; vertical-align: top\">8113</td>\n",
       "    </tr>\n",
       "    <tr>\n",
       "        <td style=\"padding-left: 1em; padding-right: 1em; text-align: center; vertical-align: top\">7570</td>\n",
       "    </tr>\n",
       "</table>\n",
       "[21613 rows x 21 columns]<br/>Note: Only the head of the SFrame is printed.<br/>You can use print_rows(num_rows=m, num_columns=n) to print more rows and columns.\n",
       "</div>"
      ],
      "text/plain": [
       "Columns:\n",
       "\tid\tint\n",
       "\tdate\tstr\n",
       "\tprice\tint\n",
       "\tbedrooms\tint\n",
       "\tbathrooms\tfloat\n",
       "\tsqft_living\tint\n",
       "\tsqft_lot\tint\n",
       "\tfloors\tfloat\n",
       "\twaterfront\tint\n",
       "\tview\tint\n",
       "\tcondition\tint\n",
       "\tgrade\tint\n",
       "\tsqft_above\tint\n",
       "\tsqft_basement\tint\n",
       "\tyr_built\tint\n",
       "\tyr_renovated\tint\n",
       "\tzipcode\tint\n",
       "\tlat\tfloat\n",
       "\tlong\tfloat\n",
       "\tsqft_living15\tint\n",
       "\tsqft_lot15\tint\n",
       "\n",
       "Rows: 21613\n",
       "\n",
       "Data:\n",
       "+------------+-----------------+---------+----------+-----------+-------------+\n",
       "|     id     |       date      |  price  | bedrooms | bathrooms | sqft_living |\n",
       "+------------+-----------------+---------+----------+-----------+-------------+\n",
       "| 7129300520 | 20141013T000000 |  221900 |    3     |    1.0    |     1180    |\n",
       "| 6414100192 | 20141209T000000 |  538000 |    3     |    2.25   |     2570    |\n",
       "| 5631500400 | 20150225T000000 |  180000 |    2     |    1.0    |     770     |\n",
       "| 2487200875 | 20141209T000000 |  604000 |    4     |    3.0    |     1960    |\n",
       "| 1954400510 | 20150218T000000 |  510000 |    3     |    2.0    |     1680    |\n",
       "| 7237550310 | 20140512T000000 | 1225000 |    4     |    4.5    |     5420    |\n",
       "| 1321400060 | 20140627T000000 |  257500 |    3     |    2.25   |     1715    |\n",
       "| 2008000270 | 20150115T000000 |  291850 |    3     |    1.5    |     1060    |\n",
       "| 2414600126 | 20150415T000000 |  229500 |    3     |    1.0    |     1780    |\n",
       "| 3793500160 | 20150312T000000 |  323000 |    3     |    2.5    |     1890    |\n",
       "+------------+-----------------+---------+----------+-----------+-------------+\n",
       "+----------+--------+------------+------+-----------+-------+------------+---------------+\n",
       "| sqft_lot | floors | waterfront | view | condition | grade | sqft_above | sqft_basement |\n",
       "+----------+--------+------------+------+-----------+-------+------------+---------------+\n",
       "|   5650   |  1.0   |     0      |  0   |     3     |   7   |    1180    |       0       |\n",
       "|   7242   |  2.0   |     0      |  0   |     3     |   7   |    2170    |      400      |\n",
       "|  10000   |  1.0   |     0      |  0   |     3     |   6   |    770     |       0       |\n",
       "|   5000   |  1.0   |     0      |  0   |     5     |   7   |    1050    |      910      |\n",
       "|   8080   |  1.0   |     0      |  0   |     3     |   8   |    1680    |       0       |\n",
       "|  101930  |  1.0   |     0      |  0   |     3     |   11  |    3890    |      1530     |\n",
       "|   6819   |  2.0   |     0      |  0   |     3     |   7   |    1715    |       0       |\n",
       "|   9711   |  1.0   |     0      |  0   |     3     |   7   |    1060    |       0       |\n",
       "|   7470   |  1.0   |     0      |  0   |     3     |   7   |    1050    |      730      |\n",
       "|   6560   |  2.0   |     0      |  0   |     3     |   7   |    1890    |       0       |\n",
       "+----------+--------+------------+------+-----------+-------+------------+---------------+\n",
       "+----------+--------------+---------+---------+----------+---------------+-----+\n",
       "| yr_built | yr_renovated | zipcode |   lat   |   long   | sqft_living15 | ... |\n",
       "+----------+--------------+---------+---------+----------+---------------+-----+\n",
       "|   1955   |      0       |  98178  | 47.5112 | -122.257 |      1340     | ... |\n",
       "|   1951   |     1991     |  98125  |  47.721 | -122.319 |      1690     | ... |\n",
       "|   1933   |      0       |  98028  | 47.7379 | -122.233 |      2720     | ... |\n",
       "|   1965   |      0       |  98136  | 47.5208 | -122.393 |      1360     | ... |\n",
       "|   1987   |      0       |  98074  | 47.6168 | -122.045 |      1800     | ... |\n",
       "|   2001   |      0       |  98053  | 47.6561 | -122.005 |      4760     | ... |\n",
       "|   1995   |      0       |  98003  | 47.3097 | -122.327 |      2238     | ... |\n",
       "|   1963   |      0       |  98198  | 47.4095 | -122.315 |      1650     | ... |\n",
       "|   1960   |      0       |  98146  | 47.5123 | -122.337 |      1780     | ... |\n",
       "|   2003   |      0       |  98038  | 47.3684 | -122.031 |      2390     | ... |\n",
       "+----------+--------------+---------+---------+----------+---------------+-----+\n",
       "[21613 rows x 21 columns]\n",
       "Note: Only the head of the SFrame is printed.\n",
       "You can use print_rows(num_rows=m, num_columns=n) to print more rows and columns."
      ]
     },
     "execution_count": 4,
     "metadata": {},
     "output_type": "execute_result"
    }
   ],
   "source": [
    "house_data #General overvie of the dataset"
   ]
  },
  {
   "cell_type": "code",
   "execution_count": 5,
   "metadata": {
    "collapsed": false
   },
   "outputs": [
    {
     "data": {
      "text/plain": [
       "21613"
      ]
     },
     "execution_count": 5,
     "metadata": {},
     "output_type": "execute_result"
    }
   ],
   "source": [
    "len(house_data) #number of the houses"
   ]
  },
  {
   "cell_type": "code",
   "execution_count": 6,
   "metadata": {
    "collapsed": false
   },
   "outputs": [
    {
     "data": {
      "text/plain": [
       "70"
      ]
     },
     "execution_count": 6,
     "metadata": {},
     "output_type": "execute_result"
    }
   ],
   "source": [
    "zip_code = set(house_data[\"zipcode\"]) #different zipcodes in the king county\n",
    "len(zip_code) #NUmer of the zip codes"
   ]
  },
  {
   "cell_type": "code",
   "execution_count": 7,
   "metadata": {
    "collapsed": false
   },
   "outputs": [
    {
     "data": {
      "application/javascript": [
       "$(\"head\").append($(\"<link/>\").attr({\n",
       "  rel:  \"stylesheet\",\n",
       "  type: \"text/css\",\n",
       "  href: \"//cdnjs.cloudflare.com/ajax/libs/font-awesome/4.1.0/css/font-awesome.min.css\"\n",
       "}));\n",
       "$(\"head\").append($(\"<link/>\").attr({\n",
       "  rel:  \"stylesheet\",\n",
       "  type: \"text/css\",\n",
       "  href: \"https://static.turi.com/products/graphlab-create/2.1/canvas/css/canvas.css\"\n",
       "}));\n",
       "\n",
       "            (function(){\n",
       "\n",
       "                var e = null;\n",
       "                if (typeof element == 'undefined') {\n",
       "                    var scripts = document.getElementsByTagName('script');\n",
       "                    var thisScriptTag = scripts[scripts.length-1];\n",
       "                    var parentDiv = thisScriptTag.parentNode;\n",
       "                    e = document.createElement('div');\n",
       "                    parentDiv.appendChild(e);\n",
       "                } else {\n",
       "                    e = element[0];\n",
       "                }\n",
       "\n",
       "                if (typeof requirejs !== 'undefined') {\n",
       "                    // disable load timeout; ipython_app.js is large and can take a while to load.\n",
       "                    requirejs.config({waitSeconds: 0});\n",
       "                }\n",
       "\n",
       "                require(['https://static.turi.com/products/graphlab-create/2.1/canvas/js/ipython_app.js'], function(IPythonApp){\n",
       "                    var app = new IPythonApp();\n",
       "                    app.attachView('sframe','Plots', {\"selected_variable\": {\"name\": [\"house_data\"], \"descriptives\": {\"rows\": 21613, \"columns\": 21}, \"view_component\": \"Plots\", \"view_file\": \"sframe\", \"view_params\": {\"y\": \"price\", \"x\": \"zipcode\", \"columns\": [\"id\", \"date\", \"price\", \"bedrooms\", \"bathrooms\", \"sqft_living\", \"sqft_lot\", \"floors\", \"waterfront\", \"view\", \"condition\", \"grade\", \"sqft_above\", \"sqft_basement\", \"yr_built\", \"yr_renovated\", \"zipcode\", \"lat\", \"long\", \"sqft_living15\", \"sqft_lot15\"], \"view\": \"BoxWhisker Plot\"}, \"view_components\": [\"Summary\", \"Table\", \"Bar Chart\", \"BoxWhisker Plot\", \"Line Chart\", \"Scatter Plot\", \"Heat Map\", \"Plots\"], \"type\": \"SFrame\", \"columns\": [{\"dtype\": \"int\", \"name\": \"id\"}, {\"dtype\": \"str\", \"name\": \"date\"}, {\"dtype\": \"int\", \"name\": \"price\"}, {\"dtype\": \"int\", \"name\": \"bedrooms\"}, {\"dtype\": \"float\", \"name\": \"bathrooms\"}, {\"dtype\": \"int\", \"name\": \"sqft_living\"}, {\"dtype\": \"int\", \"name\": \"sqft_lot\"}, {\"dtype\": \"float\", \"name\": \"floors\"}, {\"dtype\": \"int\", \"name\": \"waterfront\"}, {\"dtype\": \"int\", \"name\": \"view\"}, {\"dtype\": \"int\", \"name\": \"condition\"}, {\"dtype\": \"int\", \"name\": \"grade\"}, {\"dtype\": \"int\", \"name\": \"sqft_above\"}, {\"dtype\": \"int\", \"name\": \"sqft_basement\"}, {\"dtype\": \"int\", \"name\": \"yr_built\"}, {\"dtype\": \"int\", \"name\": \"yr_renovated\"}, {\"dtype\": \"int\", \"name\": \"zipcode\"}, {\"dtype\": \"float\", \"name\": \"lat\"}, {\"dtype\": \"float\", \"name\": \"long\"}, {\"dtype\": \"int\", \"name\": \"sqft_living15\"}, {\"dtype\": \"int\", \"name\": \"sqft_lot15\"}], \"column_identifiers\": [\"bathrooms\", \"sqft_living15\", \"sqft_above\", \"grade\", \"yr_built\", \"price\", \"bedrooms\", \"zipcode\", \"long\", \"id\", \"sqft_lot15\", \"sqft_living\", \"floors\", \"sqft_lot\", \"date\", \"waterfront\", \"sqft_basement\", \"yr_renovated\", \"lat\", \"condition\", \"view\"]}, \"complete\": 1, \"ipython\": true, \"progress\": 1.0, \"data\": {\"grouped\": [[98001, [100000.0, 115000.0, 180000.0, 184000.0, 215000.0, 260000.0, 320000.0, 420000.0, 427000.0, 625000.0, 850000.0]], [98002, [95000.0, 111300.0, 160000.0, 163500.0, 199950.0, 235000.0, 269000.0, 298900.0, 300000.0, 370000.0, 389000.0]], [98003, [128000.0, 152500.0, 199000.0, 200000.0, 229000.0, 267950.0, 333000.0, 420000.0, 429900.0, 740000.0, 950000.0]], [98004, [425000.0, 595000.0, 695000.0, 720000.0, 845000.0, 1150000.0, 1691000.0, 2150000.0, 2200000.0, 3800000.0, 7062500.0]], [98005, [400000.0, 411100.0, 542500.0, 549000.0, 638700.0, 768500.0, 915000.0, 1110000.0, 1125000.0, 1900000.0, 1960000.0]], [98006, [247500.0, 295000.0, 450000.0, 455000.0, 575000.0, 760369.0, 978000.0, 1380000.0, 1400000.0, 2525000.0, 4208000.0]], [98007, [295000.0, 330000.0, 415500.0, 419000.0, 465000.0, 555000.0, 730000.0, 900000.0, 907500.0, 1229000.0, 1315000.0]], [98008, [250000.0, 277700.0, 405000.0, 415000.0, 465000.0, 545000.0, 660000.0, 850000.0, 899000.0, 3300000.0, 3567000.0]], [98010, [135000.0, 162000.0, 208500.0, 212644.0, 257000.0, 360000.0, 600000.0, 712000.0, 720000.0, 935000.0, 935000.0]], [98011, [245500.0, 260000.0, 347000.0, 361000.0, 411800.0, 470000.0, 550000.0, 632000.0, 650000.0, 870000.0, 1075000.0]], [98014, [80000.0, 134000.0, 167000.0, 180000.0, 309000.0, 415000.0, 539000.0, 739000.0, 755000.0, 1610000.0, 1680000.0]], [98019, [119500.0, 170000.0, 289275.0, 299950.0, 330000.0, 402500.0, 500000.0, 570000.0, 570000.0, 979500.0, 1015000.0]], [98022, [75000.0, 152900.0, 199990.0, 200000.0, 235000.0, 280000.0, 350000.0, 475000.0, 487000.0, 750000.0, 858000.0]], [98023, [86500.0, 115000.0, 188000.0, 193000.0, 224097.0, 268450.0, 316500.0, 402500.0, 415000.0, 629000.0, 1275000.0]], [98024, [142000.0, 142000.0, 258000.0, 260000.0, 340000.0, 460000.0, 700000.0, 997950.0, 1065000.0, 1862000.0, 1862000.0]], [98027, [130000.0, 240000.0, 352499.0, 361000.0, 450000.0, 571000.0, 716500.0, 865000.0, 890000.0, 1800000.0, 2700000.0]], [98028, [160000.0, 196000.0, 300000.0, 310000.0, 379950.0, 445000.0, 526750.0, 610000.0, 619990.0, 1120000.0, 1600000.0]], [98029, [285000.0, 310000.0, 413565.0, 420000.0, 485000.0, 575000.0, 690000.0, 795000.0, 812000.0, 1450000.0, 2200000.0]], [98030, [120000.0, 140000.0, 213400.0, 220000.0, 249950.0, 282510.0, 339950.0, 380000.0, 386000.0, 491000.0, 565000.0]], [98031, [147500.0, 152000.0, 223000.0, 230000.0, 252000.0, 288400.0, 327500.0, 377000.0, 382500.0, 680000.0, 800000.0]], [98032, [85000.0, 85000.0, 165000.0, 169000.0, 221700.0, 249000.0, 285000.0, 321000.0, 324900.0, 400000.0, 545000.0]], [98033, [130000.0, 305000.0, 425000.0, 437500.0, 535000.0, 678700.0, 902000.0, 1339000.0, 1378000.0, 2650000.0, 5110800.0]], [98034, [90000.0, 257000.0, 330000.0, 335000.0, 387000.0, 445950.0, 525000.0, 749950.0, 799950.0, 2125000.0, 3120000.0]], [98038, [110000.0, 176000.0, 240000.0, 245000.0, 285000.0, 342000.0, 410000.0, 533000.0, 540000.0, 849000.0, 1350000.0]], [98039, [787500.0, 787500.0, 940000.0, 1000000.0, 1398000.0, 1905000.0, 2575000.0, 3640900.0, 3640900.0, 6885000.0, 6885000.0]], [98040, [500000.0, 550000.0, 685000.0, 698000.0, 821000.0, 994000.0, 1387000.0, 1815000.0, 1900000.0, 3850000.0, 5300000.0]], [98042, [105000.0, 132825.0, 200000.0, 204000.0, 240000.0, 292500.0, 359950.0, 444900.0, 450000.0, 734000.0, 859000.0]], [98045, [175000.0, 189000.0, 259000.0, 271000.0, 305000.0, 399500.0, 495000.0, 665000.0, 688000.0, 1075000.0, 1950000.0]], [98052, [225000.0, 315000.0, 425000.0, 432100.0, 509250.0, 615000.0, 751000.0, 852500.0, 872750.0, 1299888.0, 2200000.0]], [98053, [170000.0, 300000.0, 400000.0, 405000.0, 485000.0, 635000.0, 790500.0, 955990.0, 975000.0, 1769000.0, 2280000.0]], [98055, [100000.0, 126000.0, 192000.0, 197500.0, 240000.0, 295000.0, 350000.0, 430000.0, 440000.0, 580000.0, 631000.0]], [98056, [139000.0, 155000.0, 230000.0, 231500.0, 289000.0, 380000.0, 510000.0, 635000.0, 640000.0, 980000.0, 3000000.0]], [98058, [95000.0, 144000.0, 225000.0, 230000.0, 285000.0, 335000.0, 392000.0, 475000.0, 485000.0, 790000.0, 1500000.0]], [98059, [172500.0, 217000.0, 291375.0, 294500.0, 340000.0, 435000.0, 552500.0, 751000.0, 785000.0, 1300000.0, 1780000.0]], [98065, [170000.0, 208000.0, 323000.0, 335000.0, 424950.0, 500000.0, 619000.0, 710000.0, 723000.0, 1145000.0, 1998000.0]], [98070, [160000.0, 181000.0, 280000.0, 285000.0, 340000.0, 465000.0, 575000.0, 729000.0, 730000.0, 1350000.0, 1379900.0]], [98072, [200000.0, 275000.0, 357823.0, 365000.0, 422800.0, 515000.0, 642860.0, 879000.0, 905000.0, 1350000.0, 1565000.0]], [98074, [280000.0, 325000.0, 420000.0, 434900.0, 532000.0, 642000.0, 798000.0, 922755.0, 929000.0, 1675000.0, 3075000.0]], [98075, [406430.0, 432000.0, 545000.0, 550000.0, 641000.0, 739999.0, 870000.0, 1060000.0, 1062500.0, 2000000.0, 3200000.0]], [98077, [250000.0, 274975.0, 335000.0, 353000.0, 510000.0, 654950.0, 835000.0, 950000.0, 985000.0, 1820000.0, 1920000.0]], [98092, [90000.0, 148226.0, 210000.0, 216000.0, 263950.0, 309780.0, 379500.0, 471275.0, 480000.0, 835000.0, 930000.0]], [98102, [330000.0, 350000.0, 440000.0, 475000.0, 575000.0, 720000.0, 979700.0, 1440000.0, 1443917.0, 2479000.0, 7700000.0]], [98103, [238000.0, 259250.0, 352950.0, 355000.0, 432000.0, 550000.0, 695000.0, 830000.0, 850000.0, 1350000.0, 1695000.0]], [98105, [380000.0, 395000.0, 483000.0, 485000.0, 550000.0, 675000.0, 1005000.0, 1415000.0, 1482500.0, 2555000.0, 3650000.0]], [98106, [90000.0, 107000.0, 208400.0, 210000.0, 260000.0, 315000.0, 366000.0, 426000.0, 435000.0, 625000.0, 795000.0]], [98107, [290000.0, 356000.0, 425000.0, 430000.0, 470000.0, 529950.0, 630000.0, 752500.0, 769950.0, 1205000.0, 2945000.0]], [98108, [90000.0, 130000.0, 230000.0, 230000.0, 284000.0, 345000.0, 425000.0, 491000.0, 500000.0, 635000.0, 640000.0]], [98109, [216650.0, 216650.0, 478000.0, 479000.0, 620000.0, 736000.0, 1000000.0, 1450000.0, 1450000.0, 2900000.0, 3200000.0]], [98112, [169317.0, 350000.0, 515000.0, 524000.0, 680000.0, 915000.0, 1328000.0, 1975000.0, 2048000.0, 3000000.0, 3400000.0]], [98115, [200000.0, 289500.0, 395000.0, 399000.0, 455000.0, 567000.0, 719000.0, 897000.0, 925000.0, 1500000.0, 2300000.0]], [98116, [130000.0, 252000.0, 386950.0, 390000.0, 460000.0, 565500.0, 703000.0, 930000.0, 950000.0, 1598888.0, 2050000.0]], [98117, [125000.0, 280000.0, 375000.0, 390000.0, 450000.0, 544000.0, 657500.0, 825000.0, 850000.0, 1275000.0, 1370000.0]], [98118, [109000.0, 155000.0, 221000.0, 226000.0, 289000.0, 367500.0, 476500.0, 665000.0, 680000.0, 1309500.0, 2903000.0]], [98119, [300523.0, 365000.0, 485000.0, 490000.0, 600000.0, 749950.0, 940000.0, 1320000.0, 1330000.0, 2630000.0, 3065000.0]], [98122, [202000.0, 260000.0, 375000.0, 385000.0, 450000.0, 574000.0, 720000.0, 920000.0, 925000.0, 1850000.0, 2050000.0]], [98125, [175000.0, 228000.0, 303697.0, 310000.0, 357250.0, 425000.0, 518000.0, 675000.0, 689000.0, 1335000.0, 2050000.0]], [98126, [110000.0, 183000.0, 250000.0, 255000.0, 320000.0, 396500.0, 485000.0, 643500.0, 661000.0, 901000.0, 1085000.0]], [98133, [130000.0, 210000.0, 275000.0, 277500.0, 318000.0, 375000.0, 435000.0, 507000.0, 518000.0, 729953.0, 808100.0]], [98136, [200000.0, 229050.0, 340000.0, 345000.0, 398000.0, 489950.0, 660000.0, 838000.0, 850000.0, 1662000.0, 2230000.0]], [98144, [181000.0, 230000.0, 325000.0, 327000.0, 374950.0, 450000.0, 666000.0, 970000.0, 1039000.0, 2450000.0, 3600000.0]], [98146, [82000.0, 104950.0, 158800.0, 175000.0, 229500.0, 307000.0, 409000.0, 605000.0, 665900.0, 1250000.0, 1410000.0]], [98148, [105500.0, 105500.0, 193000.0, 193000.0, 240000.0, 278000.0, 319990.0, 375000.0, 375000.0, 600600.0, 600600.0]], [98155, [153000.0, 195000.0, 267800.0, 270000.0, 315000.0, 375000.0, 460000.0, 590000.0, 600000.0, 1680000.0, 4500000.0]], [98166, [100000.0, 129888.0, 220000.0, 229000.0, 292000.0, 390000.0, 540500.0, 755000.0, 770000.0, 1899000.0, 2510000.0]], [98168, [78000.0, 82500.0, 150550.0, 158000.0, 199950.0, 235000.0, 285000.0, 325000.0, 327200.0, 424305.0, 600000.0]], [98177, [245560.0, 276000.0, 355950.0, 367500.0, 427000.0, 554000.0, 749950.0, 1075000.0, 1200000.0, 2880500.0, 3800000.0]], [98178, [90000.0, 119900.0, 180000.0, 188000.0, 223000.0, 279000.0, 350000.0, 450000.0, 460000.0, 869000.0, 1700000.0]], [98188, [110000.0, 110700.0, 179000.0, 179950.0, 230000.0, 265000.0, 335000.0, 400200.0, 408000.0, 706000.0, 707000.0]], [98198, [95000.0, 120000.0, 174500.0, 175000.0, 216500.0, 265000.0, 340000.0, 455000.0, 475000.0, 950000.0, 1350000.0]], [98199, [323000.0, 334000.0, 419000.0, 425000.0, 535000.0, 689800.0, 950000.0, 1289000.0, 1300000.0, 2160000.0, 3200000.0]]], \"omitted\": 0}, \"columns\": [{\"dtype\": \"int\", \"name\": \"id\"}, {\"dtype\": \"str\", \"name\": \"date\"}, {\"dtype\": \"int\", \"name\": \"price\"}, {\"dtype\": \"int\", \"name\": \"bedrooms\"}, {\"dtype\": \"float\", \"name\": \"bathrooms\"}, {\"dtype\": \"int\", \"name\": \"sqft_living\"}, {\"dtype\": \"int\", \"name\": \"sqft_lot\"}, {\"dtype\": \"float\", \"name\": \"floors\"}, {\"dtype\": \"int\", \"name\": \"waterfront\"}, {\"dtype\": \"int\", \"name\": \"view\"}, {\"dtype\": \"int\", \"name\": \"condition\"}, {\"dtype\": \"int\", \"name\": \"grade\"}, {\"dtype\": \"int\", \"name\": \"sqft_above\"}, {\"dtype\": \"int\", \"name\": \"sqft_basement\"}, {\"dtype\": \"int\", \"name\": \"yr_built\"}, {\"dtype\": \"int\", \"name\": \"yr_renovated\"}, {\"dtype\": \"int\", \"name\": \"zipcode\"}, {\"dtype\": \"float\", \"name\": \"lat\"}, {\"dtype\": \"float\", \"name\": \"long\"}, {\"dtype\": \"int\", \"name\": \"sqft_living15\"}, {\"dtype\": \"int\", \"name\": \"sqft_lot15\"}]}, e);\n",
       "                });\n",
       "            })();\n",
       "        "
      ]
     },
     "metadata": {},
     "output_type": "display_data"
    }
   ],
   "source": [
    "gl.canvas.set_target(\"ipynb\")\n",
    "house_data.show(view=\"BoxWhisker Plot\", x= \"zipcode\", y= \"price\")"
   ]
  },
  {
   "cell_type": "code",
   "execution_count": 8,
   "metadata": {
    "collapsed": true
   },
   "outputs": [],
   "source": [
    "#number of the different zip codes in the county\n",
    "ls=[]\n",
    "for i in zip_code:\n",
    "    num_cont = 0\n",
    "    for z in house_data[\"zipcode\"]:\n",
    "        if z == i:\n",
    "            num_cont +=1\n",
    "    ls.append((num_cont,i))"
   ]
  },
  {
   "cell_type": "code",
   "execution_count": 9,
   "metadata": {
    "collapsed": true,
    "scrolled": true
   },
   "outputs": [],
   "source": [
    "ls.sort( reverse = True) #sort the data based on the numer of the houses in each zipcode"
   ]
  },
  {
   "cell_type": "code",
   "execution_count": 10,
   "metadata": {
    "collapsed": true
   },
   "outputs": [],
   "source": [
    "selected_zip_code = [98103,98038,98115,98052,98117,98042] # Zip codes with large number of the building informations"
   ]
  },
  {
   "cell_type": "code",
   "execution_count": 11,
   "metadata": {
    "collapsed": true
   },
   "outputs": [],
   "source": [
    "# Put selected zip codes in the list\n",
    "selected_ls = []\n",
    "for z in selected_zip_code:\n",
    "    selected_ls.append(house_data[house_data[\"zipcode\"] == z ])"
   ]
  },
  {
   "cell_type": "code",
   "execution_count": 12,
   "metadata": {
    "collapsed": true
   },
   "outputs": [],
   "source": [
    "# Make a Sframe from the selected list (selected_ls)\n",
    "selected_sframe = gl.SFrame()\n",
    "\n",
    "r = 0\n",
    "while r <len(selected_ls):\n",
    "    selected_sframe= selected_sframe.append(selected_ls[r])\n",
    "    r +=1"
   ]
  },
  {
   "cell_type": "markdown",
   "metadata": {},
   "source": [
    "# Exploration of the Dataset"
   ]
  },
  {
   "cell_type": "markdown",
   "metadata": {},
   "source": [
    "The aim of the section is to present the statistical relationship between the features; plus, their unexpected distribution and outliers to findout the whether they can be utilized for the purpose of the prediction or not."
   ]
  },
  {
   "cell_type": "markdown",
   "metadata": {},
   "source": [
    "## Relation between Zip codes & prices"
   ]
  },
  {
   "cell_type": "code",
   "execution_count": 13,
   "metadata": {
    "collapsed": false
   },
   "outputs": [
    {
     "data": {
      "application/javascript": [
       "$(\"head\").append($(\"<link/>\").attr({\n",
       "  rel:  \"stylesheet\",\n",
       "  type: \"text/css\",\n",
       "  href: \"//cdnjs.cloudflare.com/ajax/libs/font-awesome/4.1.0/css/font-awesome.min.css\"\n",
       "}));\n",
       "$(\"head\").append($(\"<link/>\").attr({\n",
       "  rel:  \"stylesheet\",\n",
       "  type: \"text/css\",\n",
       "  href: \"https://static.turi.com/products/graphlab-create/2.1/canvas/css/canvas.css\"\n",
       "}));\n",
       "\n",
       "            (function(){\n",
       "\n",
       "                var e = null;\n",
       "                if (typeof element == 'undefined') {\n",
       "                    var scripts = document.getElementsByTagName('script');\n",
       "                    var thisScriptTag = scripts[scripts.length-1];\n",
       "                    var parentDiv = thisScriptTag.parentNode;\n",
       "                    e = document.createElement('div');\n",
       "                    parentDiv.appendChild(e);\n",
       "                } else {\n",
       "                    e = element[0];\n",
       "                }\n",
       "\n",
       "                if (typeof requirejs !== 'undefined') {\n",
       "                    // disable load timeout; ipython_app.js is large and can take a while to load.\n",
       "                    requirejs.config({waitSeconds: 0});\n",
       "                }\n",
       "\n",
       "                require(['https://static.turi.com/products/graphlab-create/2.1/canvas/js/ipython_app.js'], function(IPythonApp){\n",
       "                    var app = new IPythonApp();\n",
       "                    app.attachView('sframe','Plots', {\"selected_variable\": {\"name\": [\"selected_sframe\"], \"descriptives\": {\"rows\": 3450, \"columns\": 21}, \"view_component\": \"Plots\", \"view_file\": \"sframe\", \"view_params\": {\"y\": \"price\", \"x\": \"zipcode\", \"columns\": [\"id\", \"date\", \"price\", \"bedrooms\", \"bathrooms\", \"sqft_living\", \"sqft_lot\", \"floors\", \"waterfront\", \"view\", \"condition\", \"grade\", \"sqft_above\", \"sqft_basement\", \"yr_built\", \"yr_renovated\", \"zipcode\", \"lat\", \"long\", \"sqft_living15\", \"sqft_lot15\"], \"view\": \"BoxWhisker Plot\"}, \"view_components\": [\"Summary\", \"Table\", \"Bar Chart\", \"BoxWhisker Plot\", \"Line Chart\", \"Scatter Plot\", \"Heat Map\", \"Plots\"], \"type\": \"SFrame\", \"columns\": [{\"dtype\": \"int\", \"name\": \"id\"}, {\"dtype\": \"str\", \"name\": \"date\"}, {\"dtype\": \"int\", \"name\": \"price\"}, {\"dtype\": \"int\", \"name\": \"bedrooms\"}, {\"dtype\": \"float\", \"name\": \"bathrooms\"}, {\"dtype\": \"int\", \"name\": \"sqft_living\"}, {\"dtype\": \"int\", \"name\": \"sqft_lot\"}, {\"dtype\": \"float\", \"name\": \"floors\"}, {\"dtype\": \"int\", \"name\": \"waterfront\"}, {\"dtype\": \"int\", \"name\": \"view\"}, {\"dtype\": \"int\", \"name\": \"condition\"}, {\"dtype\": \"int\", \"name\": \"grade\"}, {\"dtype\": \"int\", \"name\": \"sqft_above\"}, {\"dtype\": \"int\", \"name\": \"sqft_basement\"}, {\"dtype\": \"int\", \"name\": \"yr_built\"}, {\"dtype\": \"int\", \"name\": \"yr_renovated\"}, {\"dtype\": \"int\", \"name\": \"zipcode\"}, {\"dtype\": \"float\", \"name\": \"lat\"}, {\"dtype\": \"float\", \"name\": \"long\"}, {\"dtype\": \"int\", \"name\": \"sqft_living15\"}, {\"dtype\": \"int\", \"name\": \"sqft_lot15\"}], \"column_identifiers\": [\"bathrooms\", \"sqft_living15\", \"sqft_above\", \"grade\", \"yr_built\", \"price\", \"bedrooms\", \"zipcode\", \"long\", \"id\", \"sqft_lot15\", \"sqft_living\", \"floors\", \"sqft_lot\", \"date\", \"waterfront\", \"sqft_basement\", \"yr_renovated\", \"lat\", \"condition\", \"view\"]}, \"complete\": 1, \"ipython\": true, \"progress\": 1.0, \"data\": {\"grouped\": [[98038, [110000.0, 176000.0, 240000.0, 245000.0, 285000.0, 342000.0, 410000.0, 533000.0, 540000.0, 849000.0, 1350000.0]], [98042, [105000.0, 132825.0, 200000.0, 204000.0, 240000.0, 292500.0, 359950.0, 444900.0, 450000.0, 734000.0, 859000.0]], [98052, [225000.0, 315000.0, 425000.0, 432100.0, 509250.0, 615000.0, 751000.0, 852500.0, 872750.0, 1299888.0, 2200000.0]], [98103, [238000.0, 259250.0, 352950.0, 355000.0, 432000.0, 550000.0, 695000.0, 830000.0, 850000.0, 1350000.0, 1695000.0]], [98115, [200000.0, 289500.0, 395000.0, 399000.0, 455000.0, 567000.0, 719000.0, 897000.0, 925000.0, 1500000.0, 2300000.0]], [98117, [125000.0, 280000.0, 375000.0, 390000.0, 450000.0, 544000.0, 657500.0, 825000.0, 850000.0, 1275000.0, 1370000.0]]], \"omitted\": 0}, \"columns\": [{\"dtype\": \"int\", \"name\": \"id\"}, {\"dtype\": \"str\", \"name\": \"date\"}, {\"dtype\": \"int\", \"name\": \"price\"}, {\"dtype\": \"int\", \"name\": \"bedrooms\"}, {\"dtype\": \"float\", \"name\": \"bathrooms\"}, {\"dtype\": \"int\", \"name\": \"sqft_living\"}, {\"dtype\": \"int\", \"name\": \"sqft_lot\"}, {\"dtype\": \"float\", \"name\": \"floors\"}, {\"dtype\": \"int\", \"name\": \"waterfront\"}, {\"dtype\": \"int\", \"name\": \"view\"}, {\"dtype\": \"int\", \"name\": \"condition\"}, {\"dtype\": \"int\", \"name\": \"grade\"}, {\"dtype\": \"int\", \"name\": \"sqft_above\"}, {\"dtype\": \"int\", \"name\": \"sqft_basement\"}, {\"dtype\": \"int\", \"name\": \"yr_built\"}, {\"dtype\": \"int\", \"name\": \"yr_renovated\"}, {\"dtype\": \"int\", \"name\": \"zipcode\"}, {\"dtype\": \"float\", \"name\": \"lat\"}, {\"dtype\": \"float\", \"name\": \"long\"}, {\"dtype\": \"int\", \"name\": \"sqft_living15\"}, {\"dtype\": \"int\", \"name\": \"sqft_lot15\"}]}, e);\n",
       "                });\n",
       "            })();\n",
       "        "
      ]
     },
     "metadata": {},
     "output_type": "display_data"
    }
   ],
   "source": [
    "gl.canvas.set_target(\"ipynb\")\n",
    "selected_sframe.show(view=\"BoxWhisker Plot\", x= \"zipcode\", y= \"price\")"
   ]
  },
  {
   "cell_type": "markdown",
   "metadata": {},
   "source": [
    "Among these six areas, area with zpcode 98052 has expensive building with average price 600,000 dollars. However, Area with zipcode 98042 with average price 300,000 has cheaper buildings.  In general, except for the tworegions, others has house price between 500,000 and 750,000 dollars in average."
   ]
  },
  {
   "cell_type": "markdown",
   "metadata": {},
   "source": [
    "## Relation between the area of the houses(sqft) & prices"
   ]
  },
  {
   "cell_type": "code",
   "execution_count": 14,
   "metadata": {
    "collapsed": false,
    "scrolled": false
   },
   "outputs": [
    {
     "data": {
      "application/javascript": [
       "$(\"head\").append($(\"<link/>\").attr({\n",
       "  rel:  \"stylesheet\",\n",
       "  type: \"text/css\",\n",
       "  href: \"//cdnjs.cloudflare.com/ajax/libs/font-awesome/4.1.0/css/font-awesome.min.css\"\n",
       "}));\n",
       "$(\"head\").append($(\"<link/>\").attr({\n",
       "  rel:  \"stylesheet\",\n",
       "  type: \"text/css\",\n",
       "  href: \"https://static.turi.com/products/graphlab-create/2.1/canvas/css/canvas.css\"\n",
       "}));\n",
       "\n",
       "            (function(){\n",
       "\n",
       "                var e = null;\n",
       "                if (typeof element == 'undefined') {\n",
       "                    var scripts = document.getElementsByTagName('script');\n",
       "                    var thisScriptTag = scripts[scripts.length-1];\n",
       "                    var parentDiv = thisScriptTag.parentNode;\n",
       "                    e = document.createElement('div');\n",
       "                    parentDiv.appendChild(e);\n",
       "                } else {\n",
       "                    e = element[0];\n",
       "                }\n",
       "\n",
       "                if (typeof requirejs !== 'undefined') {\n",
       "                    // disable load timeout; ipython_app.js is large and can take a while to load.\n",
       "                    requirejs.config({waitSeconds: 0});\n",
       "                }\n",
       "\n",
       "                require(['https://static.turi.com/products/graphlab-create/2.1/canvas/js/ipython_app.js'], function(IPythonApp){\n",
       "                    var app = new IPythonApp();\n",
       "                    app.attachView('sframe','Plots', {\"selected_variable\": {\"name\": [\"selected_sframe\"], \"descriptives\": {\"rows\": 3450, \"columns\": 21}, \"view_component\": \"Plots\", \"view_file\": \"sframe\", \"view_params\": {\"y\": \"price\", \"x\": \"sqft_living\", \"columns\": [\"id\", \"date\", \"price\", \"bedrooms\", \"bathrooms\", \"sqft_living\", \"sqft_lot\", \"floors\", \"waterfront\", \"view\", \"condition\", \"grade\", \"sqft_above\", \"sqft_basement\", \"yr_built\", \"yr_renovated\", \"zipcode\", \"lat\", \"long\", \"sqft_living15\", \"sqft_lot15\"], \"view\": \"Scatter Plot\"}, \"view_components\": [\"Summary\", \"Table\", \"Bar Chart\", \"BoxWhisker Plot\", \"Line Chart\", \"Scatter Plot\", \"Heat Map\", \"Plots\"], \"type\": \"SFrame\", \"columns\": [{\"dtype\": \"int\", \"name\": \"id\"}, {\"dtype\": \"str\", \"name\": \"date\"}, {\"dtype\": \"int\", \"name\": \"price\"}, {\"dtype\": \"int\", \"name\": \"bedrooms\"}, {\"dtype\": \"float\", \"name\": \"bathrooms\"}, {\"dtype\": \"int\", \"name\": \"sqft_living\"}, {\"dtype\": \"int\", \"name\": \"sqft_lot\"}, {\"dtype\": \"float\", \"name\": \"floors\"}, {\"dtype\": \"int\", \"name\": \"waterfront\"}, {\"dtype\": \"int\", \"name\": \"view\"}, {\"dtype\": \"int\", \"name\": \"condition\"}, {\"dtype\": \"int\", \"name\": \"grade\"}, {\"dtype\": \"int\", \"name\": \"sqft_above\"}, {\"dtype\": \"int\", \"name\": \"sqft_basement\"}, {\"dtype\": \"int\", \"name\": \"yr_built\"}, {\"dtype\": \"int\", \"name\": \"yr_renovated\"}, {\"dtype\": \"int\", \"name\": \"zipcode\"}, {\"dtype\": \"float\", \"name\": \"lat\"}, {\"dtype\": \"float\", \"name\": \"long\"}, {\"dtype\": \"int\", \"name\": \"sqft_living15\"}, {\"dtype\": \"int\", \"name\": \"sqft_lot15\"}], \"column_identifiers\": [\"bathrooms\", \"sqft_living15\", \"sqft_above\", \"grade\", \"yr_built\", \"price\", \"bedrooms\", \"zipcode\", \"long\", \"id\", \"sqft_lot15\", \"sqft_living\", \"floors\", \"sqft_lot\", \"date\", \"waterfront\", \"sqft_basement\", \"yr_renovated\", \"lat\", \"condition\", \"view\"]}, \"complete\": 1, \"ipython\": true, \"progress\": 1.0, \"data\": [[1600, 485000], [1240, 445000], [1780, 580000], [1180, 435000], [1570, 555000], [2880, 733000], [1330, 615000], [2100, 333000], [2810, 1700000], [1040, 348000], [2110, 650000], [1320, 256500], [3740, 448000], [1290, 450000], [1880, 284000], [2610, 1000000], [1510, 595000], [2870, 880000], [1400, 250000], [2900, 865000], [960, 565000], [2000, 715000], [1340, 650000], [1600, 280000], [2529, 370950], [4040, 765000], [1560, 525000], [920, 280300], [1080, 874950], [2790, 803000], [880, 492000], [700, 310000], [1980, 585000], [1950, 480000], [2390, 278226], [2010, 639500], [3220, 355000], [750, 296000], [2620, 900000], [1030, 450000], [1740, 339000], [1150, 227500], [2930, 754842], [2130, 610000], [1410, 590000], [1380, 450000], [2980, 775000], [2540, 620000], [1340, 369000], [1250, 712000], [1080, 805000], [1440, 469000], [1790, 800000], [1250, 353000], [1560, 627500], [950, 430000], [2830, 725000], [1380, 462000], [1480, 409000], [1700, 435000], [1620, 499100], [2300, 737000], [1070, 542000], [950, 500000], [1430, 195000], [1340, 279950], [2195, 392450], [1190, 160134], [2690, 925000], [2880, 845000], [2320, 475000], [2020, 490000], [1330, 539950], [1610, 395000], [1910, 615000], [910, 245000], [1860, 472000], [2210, 650000], [1430, 450000], [2650, 329000], [3950, 900000], [1970, 320000], [1220, 457000], [1340, 409500], [2190, 334950], [1120, 205000], [1580, 749000], [1140, 218000], [1240, 625000], [3030, 799950], [2040, 600000], [2270, 732350], [1860, 967000], [2030, 730000], [1470, 490000], [910, 389000], [2700, 1015000], [2220, 650000], [3470, 455000], [1850, 827000], [3800, 549900], [2230, 585188], [1250, 208000], [2430, 626000], [1410, 440000], [2530, 720000], [980, 390000], [2160, 820000], [4080, 825000], [1080, 345000], [3090, 775000], [2950, 1045000], [1490, 525000], [1200, 486700], [1950, 385000], [4380, 1050000], [2810, 624000], [1220, 280000], [1300, 397500], [1700, 545000], [1430, 407000], [1610, 626500], [3110, 725000], [1200, 460000], [2420, 301000], [1060, 570000], [1840, 575000], [2560, 640000], [2910, 770000], [1120, 465000], [1590, 599000], [2200, 547000], [1280, 500000], [830, 175000], [1030, 385000], [880, 525000], [1680, 518000], [2720, 740000], [1790, 475000], [1380, 740000], [1750, 453000], [2030, 579000], [2630, 1297000], [2980, 850000], [2170, 767250], [3460, 1315000], [1830, 599950], [1870, 248000], [1040, 535000], [1080, 485000], [2370, 388598], [1580, 720000], [1250, 425000], [640, 426000], [2500, 350000], [2160, 730000], [1630, 574800], [1150, 450000], [3080, 750000], [1170, 459000], [1710, 247500], [1550, 526000], [2090, 289000], [2430, 780000], [2660, 615000], [1160, 458500], [3150, 330000], [3900, 650000], [2280, 721000], [3320, 1695000], [1770, 667000], [3590, 1205000], [1980, 549000], [1580, 489950], [1220, 555950], [2170, 539000], [1516, 575575], [1700, 575000], [1110, 320000], [1480, 402300], [3370, 405000], [1670, 631000], [1940, 576000], [1380, 408000], [2110, 725000], [2420, 870000], [1030, 397380], [1890, 587206], [2080, 480000], [1360, 511500], [2090, 489000], [2030, 775000], [2670, 515000], [1630, 279000], [2810, 454450], [1670, 875000], [1920, 674000], [1600, 438200], [1450, 440000], [700, 400000], [3140, 400000], [1190, 441000], [1260, 342000], [2240, 363990], [2560, 599000], [1170, 459500], [1990, 334500], [2020, 475000], [2040, 366400], [1420, 510000], [1850, 540000], [2010, 322200], [2590, 855000], [1780, 588000], [1370, 500000], [2670, 744000], [2090, 610000], [3480, 490000], [1410, 425000], [2330, 700000], [1350, 499950], [1470, 426000], [3420, 1225000], [2640, 389517], [1420, 269900], [2310, 700000], [1620, 842000], [1660, 410000], [1980, 317950], [2170, 592500], [2350, 735000], [2190, 361500], [2610, 350000], [2660, 287000], [1280, 533000], [2260, 900000], [2440, 677900], [1440, 460000], [2200, 299900], [2600, 691500], [2130, 534950], [960, 406000], [3810, 760000], [2060, 612500], [1290, 529100], [2070, 449950], [2190, 580000], [1290, 253000], [2860, 874000], [1570, 495000], [2210, 590000], [3230, 850000], [1070, 543000], [3570, 942990], [2010, 605000], [1290, 492000], [1250, 235000], [2910, 395000], [1390, 657100], [1260, 485000], [1580, 537000], [3310, 829000], [900, 370000], [1380, 435000], [860, 445000], [3290, 965000], [2500, 695000], [1480, 402500], [1710, 479000], [1240, 192000], [1080, 525000], [1240, 645000], [2740, 409000], [1640, 207500], [1940, 500000], [2060, 750000], [2060, 339989], [2400, 405000], [1480, 397500], [2960, 1161000], [2000, 358500], [3070, 1105000], [2110, 525000], [3130, 1389000], [1880, 667500], [1408, 416286], [890, 250000], [1060, 420000], [2520, 865000], [2080, 290000], [1820, 365000], [1590, 488000], [1540, 565000], [1650, 472500], [1440, 499950], [2470, 735000], [1460, 237950], [2350, 870300], [830, 525000], [2550, 1020000], [1870, 680000], [2410, 960000], [890, 314963], [1420, 371000], [2020, 542000], [730, 378500], [990, 120000], [1610, 499000], [1840, 730001], [3490, 830000], [1720, 547000], [2300, 392000], [1690, 295000], [530, 238000], [1970, 780000], [980, 329900], [1680, 475000], [1430, 349000], [1110, 505000], [1170, 229950], [2440, 925000], [2590, 465000], [2520, 875000], [1000, 488000], [2400, 575000], [2490, 344200], [1940, 565000], [3060, 715000], [3150, 819900], [1760, 527950], [2040, 551000], [1070, 361500], [2540, 696500], [1463, 390000], [1290, 653000], [1830, 325000], [1910, 650000], [1108, 369500], [2223, 320000], [2280, 597000], [1850, 538000], [1380, 549000], [1650, 705000], [1410, 418000], [1230, 239950], [1460, 312000], [2660, 765000], [2270, 676101], [1770, 712500], [3150, 762500], [2370, 870000], [1030, 535000], [910, 465000], [2320, 555000], [2450, 849000], [2800, 365000], [1440, 705000], [1160, 199500], [1890, 570000], [870, 365000], [1610, 215000], [2540, 775000], [1360, 399950], [1980, 637000], [2040, 705000], [1270, 355000], [2780, 1025000], [1940, 628000], [2460, 930000], [2690, 311000], [1470, 490000], [940, 352000], [1030, 209900], [1520, 475000], [2250, 675000], [1670, 223000], [1250, 520000], [2760, 459950], [2030, 530000], [2640, 750000], [1160, 508300], [3000, 600000], [800, 269500], [2460, 990000], [2300, 320000], [3640, 932990], [1630, 540000], [1300, 422500], [1730, 499990], [1960, 308000], [1530, 570000], [1620, 640000], [2480, 424950], [1220, 415000], [1970, 690000], [2120, 765000], [1370, 545000], [1800, 508000], [1990, 582500], [1900, 550000], [2930, 1047500], [850, 460000], [3040, 410000], [750, 250000], [2580, 700000], [2010, 465000], [2550, 808000], [1280, 232000], [2840, 270000], [2090, 581000], [2000, 677000], [1030, 326000], [1175, 342000], [1810, 261000], [1610, 535610], [2060, 605000], [1250, 452000], [1570, 515000], [2260, 440000], [1640, 645000], [3140, 464000], [2100, 509250], [3420, 1350000], [3680, 770000], [3120, 375000], [2000, 225000], [2375, 712000], [2140, 780000], [2380, 565000], [1670, 587100], [1880, 600000], [730, 306950], [1870, 270000], [3170, 748000], [3430, 813000], [1530, 545000], [700, 340000], [1570, 525000], [830, 325000], [2860, 1187500], [1460, 705000], [1190, 417000], [1310, 249900], [2980, 1285000], [1510, 420000], [880, 330000], [1450, 276000], [1470, 615000], [1260, 291500], [1160, 605125], [910, 412000], [1390, 341000], [1170, 499000], [2210, 719000], [1230, 415000], [1010, 179900], [1980, 660000], [1120, 552000], [2720, 1062000], [2960, 849000], [1440, 500000], [2920, 859000], [1100, 400000], [2100, 640000], [1510, 265000], [1800, 567000], [1480, 770000], [1140, 399950], [2230, 900000], [1380, 195000], [1850, 611000], [670, 435000], [2450, 450000], [1270, 615000], [1410, 760000], [2450, 729000], [1940, 550000], [1250, 110000], [1140, 517000], [2870, 540000], [1270, 335000], [3340, 810000], [1510, 500000], [1460, 415000], [940, 354000], [1910, 835000], [2150, 575000], [2860, 751000], [1500, 250000], [1370, 460000], [2030, 545000], [2250, 411000], [1060, 405000], [1300, 562000], [3600, 817500], [2790, 840000], [1240, 543000], [2030, 598000], [1100, 480000], [2200, 315000], [1430, 399000], [2810, 518380], [3010, 837700], [1190, 215000], [3360, 740000], [3660, 920000], [1940, 219000], [890, 305000], [1650, 619000], [1650, 547500], [2150, 559500], [2380, 384950], [900, 381500], [1570, 635000], [1370, 667000], [820, 320000], [1460, 602000], [1270, 360000], [3590, 1302000], [1420, 500000], [3050, 840000], [1860, 294900], [1780, 672000], [1240, 255000], [3330, 1205000], [2310, 375000], [1310, 240000], [2280, 345000], [2420, 365000], [1660, 269950], [1580, 291000], [1360, 385000], [1140, 455000], [4410, 1240000], [1370, 375000], [2080, 589950], [1820, 425000], [1620, 657500], [2370, 420000], [2610, 750000], [2230, 565000], [2060, 326989], [1260, 350000], [3410, 725000], [2110, 638000], [1410, 500000], [1460, 625000], [2360, 600000], [2010, 299500], [3700, 1100000], [1890, 307000], [1440, 253500], [1270, 369950], [2340, 510000], [1710, 747000], [1540, 565000], [2030, 627000], [3300, 1105000], [3350, 910000], [1170, 393820], [800, 465000], [2310, 727160], [1280, 350000], [830, 455000], [880, 490000], [1340, 124740], [1300, 610000], [3180, 499950], [2560, 825000], [1020, 441750], [1020, 435500], [2560, 485000], [1300, 539900], [1050, 540000], [2570, 1180000], [390, 245000], [1250, 344000], [3280, 734500], [1080, 818900], [820, 339950], [1360, 370000], [3350, 925000], [2410, 883000], [1390, 374950], [1430, 485000], [3280, 989000], [1660, 560000], [2840, 717550], [1020, 450000], [1280, 478000], [2800, 440000], [1630, 385000], [1630, 610000], [2320, 340000], [1380, 482000], [2440, 631625], [2040, 545000], [2870, 872750], [2530, 700000], [2180, 363000], [1530, 520000], [2700, 385000], [1500, 782000], [880, 416000], [2350, 390000], [2510, 448000], [1810, 314000], [2800, 665000], [2300, 615000], [1640, 226500], [2920, 555000], [2240, 635000], [890, 391000], [1860, 588000], [1090, 455000], [1910, 300000], [1530, 257500], [1600, 460000], [1450, 275000], [2320, 737500], [1530, 245000], [1250, 350000], [1780, 325000], [1180, 410000], [1000, 249000], [2160, 733000], [1220, 300000], [2110, 370000], [1780, 296000], [1000, 352500], [1460, 201000], [1330, 417500], [2730, 374950], [1180, 435000], [3240, 1234582], [2940, 845000], [2040, 721000], [1180, 311000], [2530, 380000], [1960, 442000], [2630, 1442500], [2000, 380000], [2150, 550000], [3190, 925000], [520, 310000], [1040, 425000], [1840, 620000], [1470, 540000], [1010, 215000], [2180, 657000], [2360, 580050], [1520, 270000], [2470, 338000], [2500, 368000], [2660, 435000], [1340, 260000], [1520, 295000], [3250, 779000], [1970, 429800], [1010, 230000], [2160, 625500], [1540, 272500], [2050, 383000], [2090, 355900], [2120, 720168], [2330, 337500], [2850, 360000], [1260, 412000], [1460, 258500], [1720, 580000], [2050, 299000], [2910, 525000], [1250, 505000], [3560, 843500], [1670, 460000], [3610, 540000], [2000, 519000], [1260, 242000], [1720, 450000], [1560, 269000], [2030, 595000], [1780, 472000], [1910, 490000], [2070, 337500], [1500, 240000], [880, 105000], [1820, 519900], [2835, 522000], [2360, 293000], [1180, 195000], [1010, 147500], [1270, 455000], [1930, 390000], [910, 415000], [1320, 190000], [2630, 454000], [810, 367000], [1910, 297500], [1670, 282500], [1620, 481000], [1340, 425000], [1690, 440000], [1210, 414500], [1840, 499000], [3000, 398950], [1900, 390000], [710, 402000], [1450, 279000], [3310, 649950], [2430, 585000], [880, 415000], [2510, 811000], [1620, 620000], [3490, 728000], [2640, 387990], [2160, 389900], [1220, 237200], [2430, 412000], [2450, 450000], [1050, 445000], [960, 224975], [740, 392800], [1350, 233000], [1650, 600000], [1630, 740000], [1460, 499000], [1840, 317000], [2340, 330000], [3180, 708000], [1830, 321000], [2140, 350000], [1310, 514950], [1230, 125000], [1290, 450000], [3010, 419000], [2370, 369000], [1620, 219950], [1740, 219000], [2672, 700000], [1410, 279900], [1390, 400000], [1230, 278000], [3110, 1300000], [2290, 620000], [2130, 475000], [1450, 175409], [1130, 437000], [1700, 215000], [3160, 655000], [2840, 779950], [2300, 352500], [1680, 252000], [1365, 530000], [2740, 438900], [2830, 533000], [3570, 928990], [700, 350000], [1150, 445000], [1060, 174950], [2020, 353500], [2570, 320000], [2550, 855000], [3210, 1289000], [1600, 625000], [2150, 580000], [1640, 408000], [3610, 830005], [2060, 269950], [880, 400000], [2510, 557500], [3580, 760000], [1820, 318400], [1640, 349950], [3340, 910000], [2090, 340000], [1170, 457000], [1770, 264950], [2030, 500000], [1870, 285000], [1820, 659500], [1950, 292000], [1250, 450000], [860, 390000], [1080, 440000], [1830, 312000], [1560, 592000], [1530, 635000], [1980, 550000], [700, 367000], [1120, 205000], [2750, 419900], [1800, 250000], [2890, 416000], [1890, 355000], [2580, 456500], [2800, 444000], [2820, 428900], [1640, 269500], [1530, 269000], [1900, 921500], [1620, 260656], [2440, 350000], [2940, 837000], [1200, 239000], [962, 390000], [2270, 513000], [2630, 731688], [2990, 779950], [5820, 784500], [2180, 540000], [1690, 295000], [2550, 394000], [1620, 641000], [960, 362500], [3440, 616000], [2610, 675000], [1690, 293000], [2710, 450000], [3870, 1299888], [2570, 435000], [670, 118000], [2800, 380000], [3290, 930000], [1630, 550000], [2010, 775000], [2670, 408000], [1340, 230000], [2540, 300000], [1690, 212000], [1870, 285000], [2330, 1150000], [4010, 849000], [1520, 290000], [2080, 520000], [1610, 450000], [1180, 450000], [2560, 410000], [2300, 380000], [1580, 210000], [2350, 555000], [1950, 530000], [1810, 585000], [2710, 399900], [1900, 190000], [2380, 276500], [2370, 688100], [1833, 719000], [3270, 435000], [2500, 661500], [3080, 569999], [1450, 274000], [1230, 220000], [900, 553000], [1640, 265000], [1090, 440000], [1830, 572000], [1780, 309000], [1100, 168500], [1720, 550000], [2380, 319000], [2470, 352000], [1770, 291500], [1670, 697000], [1970, 347500], [2700, 690000], [1020, 485000], [3060, 381000], [1560, 380000], [1660, 620000], [1750, 625000], [1820, 261000], [1940, 661000], [2460, 995000], [1340, 176000], [2000, 290000], [1240, 234000], [2300, 332000], [2900, 485000], [2320, 325900], [2610, 372000], [1310, 435000], [2060, 840000], [3640, 555000], [1890, 285000], [1850, 830000], [1150, 552000], [2180, 302000], [2310, 309950], [2500, 350000], [2160, 390000], [3130, 843000], [920, 152000], [2550, 371000], [2440, 749500], [1800, 415000], [1650, 299000], [2090, 491950], [1240, 214000], [2650, 370000], [1180, 169950], [1570, 430000], [2020, 488000], [2040, 667500], [1640, 279000], [2040, 375000], [1200, 234000], [1700, 290000], [1310, 230000], [2300, 243500], [2100, 650000], [1360, 249000], [2200, 355000], [1940, 630000], [3400, 515000], [1400, 510250], [2440, 566000], [1130, 550000], [1590, 290000], [2470, 515000], [3210, 690000], [1310, 290000], [1240, 520000], [1690, 515000], [3000, 523000], [1470, 254000], [1920, 210000], [2440, 649950], [2180, 470000], [3860, 1500000], [1990, 675000], [1450, 265000], [2570, 626000], [1220, 249900], [1800, 332500], [2820, 398500], [1430, 466500], [2120, 278000], [1360, 550000], [1700, 570000], [1980, 638500], [3130, 315000], [1750, 312000], [2790, 374950], [2000, 725000], [1790, 725000], [1770, 324950], [2050, 700000], [2720, 599950], [2310, 580000], [2550, 711000], [1300, 260000], [2290, 685900], [2440, 710000], [870, 217000], [1870, 313999], [2170, 709000], [1820, 515000], [1870, 335000], [2500, 615000], [2170, 340000], [1960, 660000], [2000, 360000], [1790, 493000], [1780, 535000], [2440, 489990], [3190, 419000], [1494, 650000], [1670, 229999], [2150, 609000], [920, 215150], [1880, 324900], [3750, 1310000], [1961, 289000], [1790, 584000], [1660, 284000], [1780, 615000], [1560, 460000], [2160, 550000], [1360, 225000], [2230, 333700], [2820, 599000], [1300, 690000], [1250, 530000], [2390, 339950], [1590, 280000], [980, 395000], [2240, 635000], [3100, 967000], [3090, 567500], [3650, 1210000], [1670, 304000], [1430, 517500], [2430, 410000], [1670, 290700], [1120, 520000], [2960, 385000], [1340, 415000], [2170, 242050], [1420, 270000], [1570, 295000]], \"columns\": [{\"dtype\": \"int\", \"name\": \"id\"}, {\"dtype\": \"str\", \"name\": \"date\"}, {\"dtype\": \"int\", \"name\": \"price\"}, {\"dtype\": \"int\", \"name\": \"bedrooms\"}, {\"dtype\": \"float\", \"name\": \"bathrooms\"}, {\"dtype\": \"int\", \"name\": \"sqft_living\"}, {\"dtype\": \"int\", \"name\": \"sqft_lot\"}, {\"dtype\": \"float\", \"name\": \"floors\"}, {\"dtype\": \"int\", \"name\": \"waterfront\"}, {\"dtype\": \"int\", \"name\": \"view\"}, {\"dtype\": \"int\", \"name\": \"condition\"}, {\"dtype\": \"int\", \"name\": \"grade\"}, {\"dtype\": \"int\", \"name\": \"sqft_above\"}, {\"dtype\": \"int\", \"name\": \"sqft_basement\"}, {\"dtype\": \"int\", \"name\": \"yr_built\"}, {\"dtype\": \"int\", \"name\": \"yr_renovated\"}, {\"dtype\": \"int\", \"name\": \"zipcode\"}, {\"dtype\": \"float\", \"name\": \"lat\"}, {\"dtype\": \"float\", \"name\": \"long\"}, {\"dtype\": \"int\", \"name\": \"sqft_living15\"}, {\"dtype\": \"int\", \"name\": \"sqft_lot15\"}]}, e);\n",
       "                });\n",
       "            })();\n",
       "        "
      ]
     },
     "metadata": {},
     "output_type": "display_data"
    }
   ],
   "source": [
    "selected_sframe.show(view=\"Scatter Plot\", x= \"sqft_living\", y= \"price\")"
   ]
  },
  {
   "cell_type": "markdown",
   "metadata": {},
   "source": [
    "As the graph shows there is a strong relationship between the prices and the size of the building, and it is possitive. Most of the area of the buiding in these six regions are between 1000 and 3000 squre feet, and their prices are mostly less than 1,000,000 Dollars."
   ]
  },
  {
   "cell_type": "markdown",
   "metadata": {},
   "source": [
    "## Number of the bathrooms in the houses"
   ]
  },
  {
   "cell_type": "code",
   "execution_count": 15,
   "metadata": {
    "collapsed": false
   },
   "outputs": [
    {
     "data": {
      "application/javascript": [
       "$(\"head\").append($(\"<link/>\").attr({\n",
       "  rel:  \"stylesheet\",\n",
       "  type: \"text/css\",\n",
       "  href: \"//cdnjs.cloudflare.com/ajax/libs/font-awesome/4.1.0/css/font-awesome.min.css\"\n",
       "}));\n",
       "$(\"head\").append($(\"<link/>\").attr({\n",
       "  rel:  \"stylesheet\",\n",
       "  type: \"text/css\",\n",
       "  href: \"https://static.turi.com/products/graphlab-create/2.1/canvas/css/canvas.css\"\n",
       "}));\n",
       "\n",
       "            (function(){\n",
       "\n",
       "                var e = null;\n",
       "                if (typeof element == 'undefined') {\n",
       "                    var scripts = document.getElementsByTagName('script');\n",
       "                    var thisScriptTag = scripts[scripts.length-1];\n",
       "                    var parentDiv = thisScriptTag.parentNode;\n",
       "                    e = document.createElement('div');\n",
       "                    parentDiv.appendChild(e);\n",
       "                } else {\n",
       "                    e = element[0];\n",
       "                }\n",
       "\n",
       "                if (typeof requirejs !== 'undefined') {\n",
       "                    // disable load timeout; ipython_app.js is large and can take a while to load.\n",
       "                    requirejs.config({waitSeconds: 0});\n",
       "                }\n",
       "\n",
       "                require(['https://static.turi.com/products/graphlab-create/2.1/canvas/js/ipython_app.js'], function(IPythonApp){\n",
       "                    var app = new IPythonApp();\n",
       "                    app.attachView('sarray','Numeric', {\"ipython\": true, \"sketch\": {\"std\": 0.6985026142552385, \"complete\": true, \"min\": 0.75, \"max\": 5.0, \"quantile\": [0.75, 1.0, 1.0, 1.0, 1.0, 1.0, 1.0, 1.0, 1.0, 1.0, 1.0, 1.0, 1.0, 1.0, 1.0, 1.0, 1.0, 1.0, 1.0, 1.5, 1.5, 1.5, 1.5, 1.5, 1.5, 1.75, 1.75, 1.75, 1.75, 1.75, 1.75, 1.75, 1.75, 1.75, 1.75, 1.75, 1.75, 1.75, 1.75, 2.0, 2.0, 2.0, 2.0, 2.0, 2.0, 2.0, 2.0, 2.0, 2.0, 2.25, 2.25, 2.25, 2.25, 2.25, 2.25, 2.25, 2.25, 2.25, 2.5, 2.5, 2.5, 2.5, 2.5, 2.5, 2.5, 2.5, 2.5, 2.5, 2.5, 2.5, 2.5, 2.5, 2.5, 2.5, 2.5, 2.5, 2.5, 2.5, 2.5, 2.5, 2.5, 2.5, 2.5, 2.5, 2.5, 2.5, 2.75, 2.75, 2.75, 2.75, 2.75, 3.0, 3.0, 3.0, 3.25, 3.25, 3.25, 3.5, 3.5, 3.75, 5.0], \"median\": 2.25, \"numeric\": true, \"num_unique\": 18, \"num_undefined\": 0, \"var\": 0.48790590212140256, \"progress\": 1.0, \"size\": 3450, \"frequent_items\": {\"1.75\": {\"frequency\": 477, \"value\": 1.75}, \"1.0\": {\"frequency\": 616, \"value\": 1.0}, \"2.0\": {\"frequency\": 343, \"value\": 2.0}, \"3.0\": {\"frequency\": 125, \"value\": 3.0}, \"4.0\": {\"frequency\": 12, \"value\": 4.0}, \"5.0\": {\"frequency\": 2, \"value\": 5.0}, \"3.5\": {\"frequency\": 90, \"value\": 3.5}, \"3.25\": {\"frequency\": 73, \"value\": 3.25}, \"0.75\": {\"frequency\": 5, \"value\": 0.75}, \"3.75\": {\"frequency\": 16, \"value\": 3.75}, \"4.5\": {\"frequency\": 9, \"value\": 4.5}, \"1.25\": {\"frequency\": 1, \"value\": 1.25}, \"4.75\": {\"frequency\": 2, \"value\": 4.75}, \"2.25\": {\"frequency\": 315, \"value\": 2.25}, \"4.25\": {\"frequency\": 3, \"value\": 4.25}, \"1.5\": {\"frequency\": 220, \"value\": 1.5}, \"2.5\": {\"frequency\": 985, \"value\": 2.5}, \"2.75\": {\"frequency\": 156, \"value\": 2.75}}, \"mean\": 2.081159420289855}, \"selected_variable\": {\"name\": [\"<SArray>\"], \"dtype\": \"float\", \"view_component\": \"Numeric\", \"view_file\": \"sarray\", \"descriptives\": {\"rows\": 3450}, \"type\": \"SArray\", \"view_components\": [\"Numeric\", \"Categorical\"]}, \"histogram\": {\"progress\": 1.0, \"histogram\": {\"max\": 5.035, \"bins\": [621, 1, 697, 343, 1300, 156, 125, 163, 16, 15, 9, 4], \"min\": 0.7149999999999999}, \"min\": 0.75, \"complete\": 1, \"max\": 5.0}}, e);\n",
       "                });\n",
       "            })();\n",
       "        "
      ]
     },
     "metadata": {},
     "output_type": "display_data"
    }
   ],
   "source": [
    "selected_sframe[\"bathrooms\"].show(view='Numeric')"
   ]
  },
  {
   "cell_type": "markdown",
   "metadata": {},
   "source": [
    "As the graph revealed the number of the bathrooms in average is 2.25 which shows that in most buildings bathrooms includes toilet as well. "
   ]
  },
  {
   "cell_type": "markdown",
   "metadata": {},
   "source": [
    "## Number of the floors in the houses"
   ]
  },
  {
   "cell_type": "code",
   "execution_count": 16,
   "metadata": {
    "collapsed": false,
    "scrolled": false
   },
   "outputs": [
    {
     "data": {
      "application/javascript": [
       "$(\"head\").append($(\"<link/>\").attr({\n",
       "  rel:  \"stylesheet\",\n",
       "  type: \"text/css\",\n",
       "  href: \"//cdnjs.cloudflare.com/ajax/libs/font-awesome/4.1.0/css/font-awesome.min.css\"\n",
       "}));\n",
       "$(\"head\").append($(\"<link/>\").attr({\n",
       "  rel:  \"stylesheet\",\n",
       "  type: \"text/css\",\n",
       "  href: \"https://static.turi.com/products/graphlab-create/2.1/canvas/css/canvas.css\"\n",
       "}));\n",
       "\n",
       "            (function(){\n",
       "\n",
       "                var e = null;\n",
       "                if (typeof element == 'undefined') {\n",
       "                    var scripts = document.getElementsByTagName('script');\n",
       "                    var thisScriptTag = scripts[scripts.length-1];\n",
       "                    var parentDiv = thisScriptTag.parentNode;\n",
       "                    e = document.createElement('div');\n",
       "                    parentDiv.appendChild(e);\n",
       "                } else {\n",
       "                    e = element[0];\n",
       "                }\n",
       "\n",
       "                if (typeof requirejs !== 'undefined') {\n",
       "                    // disable load timeout; ipython_app.js is large and can take a while to load.\n",
       "                    requirejs.config({waitSeconds: 0});\n",
       "                }\n",
       "\n",
       "                require(['https://static.turi.com/products/graphlab-create/2.1/canvas/js/ipython_app.js'], function(IPythonApp){\n",
       "                    var app = new IPythonApp();\n",
       "                    app.attachView('sarray','Categorical', {\"ipython\": true, \"sketch\": {\"std\": 0.6026704731632808, \"complete\": true, \"min\": 1.0, \"max\": 3.5, \"quantile\": [1.0, 1.0, 1.0, 1.0, 1.0, 1.0, 1.0, 1.0, 1.0, 1.0, 1.0, 1.0, 1.0, 1.0, 1.0, 1.0, 1.0, 1.0, 1.0, 1.0, 1.0, 1.0, 1.0, 1.0, 1.0, 1.0, 1.0, 1.0, 1.0, 1.0, 1.0, 1.0, 1.0, 1.0, 1.0, 1.0, 1.0, 1.0, 1.0, 1.0, 1.0, 1.0, 1.0, 1.5, 1.5, 1.5, 1.5, 1.5, 1.5, 1.5, 1.5, 1.5, 1.5, 1.5, 1.5, 2.0, 2.0, 2.0, 2.0, 2.0, 2.0, 2.0, 2.0, 2.0, 2.0, 2.0, 2.0, 2.0, 2.0, 2.0, 2.0, 2.0, 2.0, 2.0, 2.0, 2.0, 2.0, 2.0, 2.0, 2.0, 2.0, 2.0, 2.0, 2.0, 2.0, 2.0, 2.0, 2.0, 2.0, 2.0, 2.0, 2.0, 2.0, 3.0, 3.0, 3.0, 3.0, 3.0, 3.0, 3.0, 3.5], \"median\": 1.5, \"numeric\": true, \"num_unique\": 6, \"num_undefined\": 0, \"var\": 0.3632116992228528, \"progress\": 1.0, \"size\": 3450, \"frequent_items\": {\"1.5\": {\"frequency\": 421, \"value\": 1.5}, \"1.0\": {\"frequency\": 1463, \"value\": 1.0}, \"2.0\": {\"frequency\": 1297, \"value\": 2.0}, \"3.0\": {\"frequency\": 251, \"value\": 3.0}, \"2.5\": {\"frequency\": 15, \"value\": 2.5}, \"3.5\": {\"frequency\": 3, \"value\": 3.5}}, \"mean\": 1.5911594202898547}, \"selected_variable\": {\"name\": [\"<SArray>\"], \"dtype\": \"float\", \"view_component\": \"Categorical\", \"view_file\": \"sarray\", \"descriptives\": {\"rows\": 3450}, \"type\": \"SArray\", \"view_components\": [\"Numeric\", \"Categorical\"]}, \"histogram\": {\"progress\": 1.0, \"histogram\": {\"max\": 3.5460000000000003, \"bins\": [1463, 0, 421, 0, 1297, 0, 0, 15, 0, 251, 0, 3], \"min\": 0.9540000000000002}, \"min\": 1.0, \"complete\": 1, \"max\": 3.5}}, e);\n",
       "                });\n",
       "            })();\n",
       "        "
      ]
     },
     "metadata": {},
     "output_type": "display_data"
    }
   ],
   "source": [
    "selected_sframe[\"floors\"].show(view='Categorical')"
   ]
  },
  {
   "cell_type": "markdown",
   "metadata": {},
   "source": [
    "As the table shows, 42.41% and 37.60% have 1 and 2 floors respectively, and only 3 buiding has more than 3 floors."
   ]
  },
  {
   "cell_type": "markdown",
   "metadata": {},
   "source": [
    "# Creating Regression Model"
   ]
  },
  {
   "cell_type": "markdown",
   "metadata": {},
   "source": [
    "## Univariate linear regression model"
   ]
  },
  {
   "cell_type": "code",
   "execution_count": 17,
   "metadata": {
    "collapsed": true
   },
   "outputs": [],
   "source": [
    "# Creating \"Training\" & \"Test\" data\n",
    "training_data,test_data = selected_sframe.random_split(0.8)"
   ]
  },
  {
   "cell_type": "code",
   "execution_count": 18,
   "metadata": {
    "collapsed": true
   },
   "outputs": [],
   "source": [
    "# Determination of the features\n",
    "features = [\"bedrooms\",\"bathrooms\",\"sqft_living\",\"sqft_lot\",\"floors\",\"waterfront\",\"view\",\"condition\",\"grade\",\"sqft_above\",\"sqft_basement\",\n",
    "\"yr_built\",\"yr_renovated\",\"zipcode\",\"lat\",\"long\",\"sqft_living15\"]"
   ]
  },
  {
   "cell_type": "code",
   "execution_count": 25,
   "metadata": {
    "collapsed": true
   },
   "outputs": [
    {
     "name": "stdout",
     "output_type": "stream",
     "text": [
      "PROGRESS: Creating a validation set from 5 percent of training data. This may take a while.\n",
      "          You can set ``validation_set=None`` to disable validation tracking.\n",
      "\n"
     ]
    },
    {
     "data": {
      "text/html": [
       "<pre>Linear regression:</pre>"
      ],
      "text/plain": [
       "Linear regression:"
      ]
     },
     "metadata": {},
     "output_type": "display_data"
    },
    {
     "data": {
      "text/html": [
       "<pre>--------------------------------------------------------</pre>"
      ],
      "text/plain": [
       "--------------------------------------------------------"
      ]
     },
     "metadata": {},
     "output_type": "display_data"
    },
    {
     "data": {
      "text/html": [
       "<pre>Number of examples          : 2616</pre>"
      ],
      "text/plain": [
       "Number of examples          : 2616"
      ]
     },
     "metadata": {},
     "output_type": "display_data"
    },
    {
     "data": {
      "text/html": [
       "<pre>Number of features          : 1</pre>"
      ],
      "text/plain": [
       "Number of features          : 1"
      ]
     },
     "metadata": {},
     "output_type": "display_data"
    },
    {
     "data": {
      "text/html": [
       "<pre>Number of unpacked features : 1</pre>"
      ],
      "text/plain": [
       "Number of unpacked features : 1"
      ]
     },
     "metadata": {},
     "output_type": "display_data"
    },
    {
     "data": {
      "text/html": [
       "<pre>Number of coefficients    : 2</pre>"
      ],
      "text/plain": [
       "Number of coefficients    : 2"
      ]
     },
     "metadata": {},
     "output_type": "display_data"
    },
    {
     "data": {
      "text/html": [
       "<pre>Starting Newton Method</pre>"
      ],
      "text/plain": [
       "Starting Newton Method"
      ]
     },
     "metadata": {},
     "output_type": "display_data"
    },
    {
     "data": {
      "text/html": [
       "<pre>--------------------------------------------------------</pre>"
      ],
      "text/plain": [
       "--------------------------------------------------------"
      ]
     },
     "metadata": {},
     "output_type": "display_data"
    },
    {
     "data": {
      "text/html": [
       "<pre>+-----------+----------+--------------+--------------------+----------------------+---------------+-----------------+</pre>"
      ],
      "text/plain": [
       "+-----------+----------+--------------+--------------------+----------------------+---------------+-----------------+"
      ]
     },
     "metadata": {},
     "output_type": "display_data"
    },
    {
     "data": {
      "text/html": [
       "<pre>| Iteration | Passes   | Elapsed Time | Training-max_error | Validation-max_error | Training-rmse | Validation-rmse |</pre>"
      ],
      "text/plain": [
       "| Iteration | Passes   | Elapsed Time | Training-max_error | Validation-max_error | Training-rmse | Validation-rmse |"
      ]
     },
     "metadata": {},
     "output_type": "display_data"
    },
    {
     "data": {
      "text/html": [
       "<pre>+-----------+----------+--------------+--------------------+----------------------+---------------+-----------------+</pre>"
      ],
      "text/plain": [
       "+-----------+----------+--------------+--------------------+----------------------+---------------+-----------------+"
      ]
     },
     "metadata": {},
     "output_type": "display_data"
    },
    {
     "data": {
      "text/html": [
       "<pre>| 1         | 2        | 0.002000     | 1426211.267037     | 721778.346270        | 186167.271702 | 185128.717568   |</pre>"
      ],
      "text/plain": [
       "| 1         | 2        | 0.002000     | 1426211.267037     | 721778.346270        | 186167.271702 | 185128.717568   |"
      ]
     },
     "metadata": {},
     "output_type": "display_data"
    },
    {
     "data": {
      "text/html": [
       "<pre>+-----------+----------+--------------+--------------------+----------------------+---------------+-----------------+</pre>"
      ],
      "text/plain": [
       "+-----------+----------+--------------+--------------------+----------------------+---------------+-----------------+"
      ]
     },
     "metadata": {},
     "output_type": "display_data"
    },
    {
     "data": {
      "text/html": [
       "<pre>SUCCESS: Optimal solution found.</pre>"
      ],
      "text/plain": [
       "SUCCESS: Optimal solution found."
      ]
     },
     "metadata": {},
     "output_type": "display_data"
    },
    {
     "data": {
      "text/html": [
       "<pre></pre>"
      ],
      "text/plain": []
     },
     "metadata": {},
     "output_type": "display_data"
    }
   ],
   "source": [
    "# Creating a Univariate linear regression model based on the training data\n",
    "regression_model_sqft_living = gl.linear_regression.create(training_data, target='price', features= [\"sqft_living\"])"
   ]
  },
  {
   "cell_type": "code",
   "execution_count": 27,
   "metadata": {
    "collapsed": false
   },
   "outputs": [
    {
     "data": {
      "text/plain": [
       "{'max_error': 951380.2197854347, 'rmse': 192842.4981900778}"
      ]
     },
     "execution_count": 27,
     "metadata": {},
     "output_type": "execute_result"
    }
   ],
   "source": [
    "# Evaluation of the Univariate model based on the test data\n",
    "regression_model_sqft_living.evaluate(test_data)"
   ]
  },
  {
   "cell_type": "code",
   "execution_count": 21,
   "metadata": {
    "collapsed": true
   },
   "outputs": [],
   "source": [
    "#Importing the packages for visulisation\n",
    "%matplotlib inline\n",
    "import matplotlib.pyplot as plt"
   ]
  },
  {
   "cell_type": "code",
   "execution_count": 26,
   "metadata": {
    "collapsed": false,
    "scrolled": true
   },
   "outputs": [
    {
     "data": {
      "text/plain": [
       "[<matplotlib.lines.Line2D at 0x29477128>,\n",
       " <matplotlib.lines.Line2D at 0x294771d0>]"
      ]
     },
     "execution_count": 26,
     "metadata": {},
     "output_type": "execute_result"
    },
    {
     "data": {
      "image/png": "[encoded data removed]",
      "text/plain": [
       "<matplotlib.figure.Figure at 0x455b0b8>"
      ]
     },
     "metadata": {},
     "output_type": "display_data"
    }
   ],
   "source": [
    "plt.plot(test_data['sqft_living'],test_data['price'],'.',\n",
    "        test_data['sqft_living'],regression_model_sqft_living.predict(test_data),'-')"
   ]
  },
  {
   "cell_type": "markdown",
   "metadata": {},
   "source": [
    "## Multivariate linear regression model"
   ]
  },
  {
   "cell_type": "code",
   "execution_count": 28,
   "metadata": {
    "collapsed": true
   },
   "outputs": [
    {
     "name": "stdout",
     "output_type": "stream",
     "text": [
      "PROGRESS: Creating a validation set from 5 percent of training data. This may take a while.\n",
      "          You can set ``validation_set=None`` to disable validation tracking.\n",
      "\n"
     ]
    },
    {
     "data": {
      "text/html": [
       "<pre>Linear regression:</pre>"
      ],
      "text/plain": [
       "Linear regression:"
      ]
     },
     "metadata": {},
     "output_type": "display_data"
    },
    {
     "data": {
      "text/html": [
       "<pre>--------------------------------------------------------</pre>"
      ],
      "text/plain": [
       "--------------------------------------------------------"
      ]
     },
     "metadata": {},
     "output_type": "display_data"
    },
    {
     "data": {
      "text/html": [
       "<pre>Number of examples          : 2586</pre>"
      ],
      "text/plain": [
       "Number of examples          : 2586"
      ]
     },
     "metadata": {},
     "output_type": "display_data"
    },
    {
     "data": {
      "text/html": [
       "<pre>Number of features          : 17</pre>"
      ],
      "text/plain": [
       "Number of features          : 17"
      ]
     },
     "metadata": {},
     "output_type": "display_data"
    },
    {
     "data": {
      "text/html": [
       "<pre>Number of unpacked features : 17</pre>"
      ],
      "text/plain": [
       "Number of unpacked features : 17"
      ]
     },
     "metadata": {},
     "output_type": "display_data"
    },
    {
     "data": {
      "text/html": [
       "<pre>Number of coefficients    : 18</pre>"
      ],
      "text/plain": [
       "Number of coefficients    : 18"
      ]
     },
     "metadata": {},
     "output_type": "display_data"
    },
    {
     "data": {
      "text/html": [
       "<pre>Starting Newton Method</pre>"
      ],
      "text/plain": [
       "Starting Newton Method"
      ]
     },
     "metadata": {},
     "output_type": "display_data"
    },
    {
     "data": {
      "text/html": [
       "<pre>--------------------------------------------------------</pre>"
      ],
      "text/plain": [
       "--------------------------------------------------------"
      ]
     },
     "metadata": {},
     "output_type": "display_data"
    },
    {
     "data": {
      "text/html": [
       "<pre>+-----------+----------+--------------+--------------------+----------------------+---------------+-----------------+</pre>"
      ],
      "text/plain": [
       "+-----------+----------+--------------+--------------------+----------------------+---------------+-----------------+"
      ]
     },
     "metadata": {},
     "output_type": "display_data"
    },
    {
     "data": {
      "text/html": [
       "<pre>| Iteration | Passes   | Elapsed Time | Training-max_error | Validation-max_error | Training-rmse | Validation-rmse |</pre>"
      ],
      "text/plain": [
       "| Iteration | Passes   | Elapsed Time | Training-max_error | Validation-max_error | Training-rmse | Validation-rmse |"
      ]
     },
     "metadata": {},
     "output_type": "display_data"
    },
    {
     "data": {
      "text/html": [
       "<pre>+-----------+----------+--------------+--------------------+----------------------+---------------+-----------------+</pre>"
      ],
      "text/plain": [
       "+-----------+----------+--------------+--------------------+----------------------+---------------+-----------------+"
      ]
     },
     "metadata": {},
     "output_type": "display_data"
    },
    {
     "data": {
      "text/html": [
       "<pre>| 1         | 2        | 0.012001     | 808074.840639      | 632510.355730        | 113997.370134 | 103916.133680   |</pre>"
      ],
      "text/plain": [
       "| 1         | 2        | 0.012001     | 808074.840639      | 632510.355730        | 113997.370134 | 103916.133680   |"
      ]
     },
     "metadata": {},
     "output_type": "display_data"
    },
    {
     "data": {
      "text/html": [
       "<pre>+-----------+----------+--------------+--------------------+----------------------+---------------+-----------------+</pre>"
      ],
      "text/plain": [
       "+-----------+----------+--------------+--------------------+----------------------+---------------+-----------------+"
      ]
     },
     "metadata": {},
     "output_type": "display_data"
    },
    {
     "data": {
      "text/html": [
       "<pre>SUCCESS: Optimal solution found.</pre>"
      ],
      "text/plain": [
       "SUCCESS: Optimal solution found."
      ]
     },
     "metadata": {},
     "output_type": "display_data"
    },
    {
     "data": {
      "text/html": [
       "<pre></pre>"
      ],
      "text/plain": []
     },
     "metadata": {},
     "output_type": "display_data"
    }
   ],
   "source": [
    "# Creating a Multivariate linear regression model based on the training data\n",
    "regression_model = gl.linear_regression.create(training_data, target='price', features= features)"
   ]
  },
  {
   "cell_type": "code",
   "execution_count": 29,
   "metadata": {
    "collapsed": false
   },
   "outputs": [
    {
     "data": {
      "text/plain": [
       "{'max_error': 925878.9092424661, 'rmse': 121757.34011170373}"
      ]
     },
     "execution_count": 29,
     "metadata": {},
     "output_type": "execute_result"
    }
   ],
   "source": [
    "# Evaluation of the Multivariate model based on the test data\n",
    "regression_model.evaluate(test_data)"
   ]
  },
  {
   "cell_type": "code",
   "execution_count": 31,
   "metadata": {
    "collapsed": false
   },
   "outputs": [
    {
     "data": {
      "text/html": [
       "<div style=\"max-height:1000px;max-width:1500px;overflow:auto;\"><table frame=\"box\" rules=\"cols\">\n",
       "    <tr>\n",
       "        <th style=\"padding-left: 1em; padding-right: 1em; text-align: center\">name</th>\n",
       "        <th style=\"padding-left: 1em; padding-right: 1em; text-align: center\">index</th>\n",
       "        <th style=\"padding-left: 1em; padding-right: 1em; text-align: center\">value</th>\n",
       "        <th style=\"padding-left: 1em; padding-right: 1em; text-align: center\">stderr</th>\n",
       "    </tr>\n",
       "    <tr>\n",
       "        <td style=\"padding-left: 1em; padding-right: 1em; text-align: center; vertical-align: top\">(intercept)</td>\n",
       "        <td style=\"padding-left: 1em; padding-right: 1em; text-align: center; vertical-align: top\">None</td>\n",
       "        <td style=\"padding-left: 1em; padding-right: 1em; text-align: center; vertical-align: top\">-25385147.4235</td>\n",
       "        <td style=\"padding-left: 1em; padding-right: 1em; text-align: center; vertical-align: top\">17813237.2588</td>\n",
       "    </tr>\n",
       "    <tr>\n",
       "        <td style=\"padding-left: 1em; padding-right: 1em; text-align: center; vertical-align: top\">bedrooms</td>\n",
       "        <td style=\"padding-left: 1em; padding-right: 1em; text-align: center; vertical-align: top\">None</td>\n",
       "        <td style=\"padding-left: 1em; padding-right: 1em; text-align: center; vertical-align: top\">1073.92814291</td>\n",
       "        <td style=\"padding-left: 1em; padding-right: 1em; text-align: center; vertical-align: top\">2566.92626864</td>\n",
       "    </tr>\n",
       "    <tr>\n",
       "        <td style=\"padding-left: 1em; padding-right: 1em; text-align: center; vertical-align: top\">bathrooms</td>\n",
       "        <td style=\"padding-left: 1em; padding-right: 1em; text-align: center; vertical-align: top\">None</td>\n",
       "        <td style=\"padding-left: 1em; padding-right: 1em; text-align: center; vertical-align: top\">14851.3376437</td>\n",
       "        <td style=\"padding-left: 1em; padding-right: 1em; text-align: center; vertical-align: top\">5644.23373031</td>\n",
       "    </tr>\n",
       "    <tr>\n",
       "        <td style=\"padding-left: 1em; padding-right: 1em; text-align: center; vertical-align: top\">sqft_living</td>\n",
       "        <td style=\"padding-left: 1em; padding-right: 1em; text-align: center; vertical-align: top\">None</td>\n",
       "        <td style=\"padding-left: 1em; padding-right: 1em; text-align: center; vertical-align: top\">55.9080038378</td>\n",
       "        <td style=\"padding-left: 1em; padding-right: 1em; text-align: center; vertical-align: top\">32891372.3801</td>\n",
       "    </tr>\n",
       "    <tr>\n",
       "        <td style=\"padding-left: 1em; padding-right: 1em; text-align: center; vertical-align: top\">sqft_lot</td>\n",
       "        <td style=\"padding-left: 1em; padding-right: 1em; text-align: center; vertical-align: top\">None</td>\n",
       "        <td style=\"padding-left: 1em; padding-right: 1em; text-align: center; vertical-align: top\">0.149690237844</td>\n",
       "        <td style=\"padding-left: 1em; padding-right: 1em; text-align: center; vertical-align: top\">0.0763975773707</td>\n",
       "    </tr>\n",
       "    <tr>\n",
       "        <td style=\"padding-left: 1em; padding-right: 1em; text-align: center; vertical-align: top\">floors</td>\n",
       "        <td style=\"padding-left: 1em; padding-right: 1em; text-align: center; vertical-align: top\">None</td>\n",
       "        <td style=\"padding-left: 1em; padding-right: 1em; text-align: center; vertical-align: top\">13219.2785623</td>\n",
       "        <td style=\"padding-left: 1em; padding-right: 1em; text-align: center; vertical-align: top\">5986.82549405</td>\n",
       "    </tr>\n",
       "    <tr>\n",
       "        <td style=\"padding-left: 1em; padding-right: 1em; text-align: center; vertical-align: top\">waterfront</td>\n",
       "        <td style=\"padding-left: 1em; padding-right: 1em; text-align: center; vertical-align: top\">None</td>\n",
       "        <td style=\"padding-left: 1em; padding-right: 1em; text-align: center; vertical-align: top\">871322.569906</td>\n",
       "        <td style=\"padding-left: 1em; padding-right: 1em; text-align: center; vertical-align: top\">68631.3220133</td>\n",
       "    </tr>\n",
       "    <tr>\n",
       "        <td style=\"padding-left: 1em; padding-right: 1em; text-align: center; vertical-align: top\">view</td>\n",
       "        <td style=\"padding-left: 1em; padding-right: 1em; text-align: center; vertical-align: top\">None</td>\n",
       "        <td style=\"padding-left: 1em; padding-right: 1em; text-align: center; vertical-align: top\">56551.2015504</td>\n",
       "        <td style=\"padding-left: 1em; padding-right: 1em; text-align: center; vertical-align: top\">4603.37860901</td>\n",
       "    </tr>\n",
       "    <tr>\n",
       "        <td style=\"padding-left: 1em; padding-right: 1em; text-align: center; vertical-align: top\">condition</td>\n",
       "        <td style=\"padding-left: 1em; padding-right: 1em; text-align: center; vertical-align: top\">None</td>\n",
       "        <td style=\"padding-left: 1em; padding-right: 1em; text-align: center; vertical-align: top\">10523.3091465</td>\n",
       "        <td style=\"padding-left: 1em; padding-right: 1em; text-align: center; vertical-align: top\">4047.53317045</td>\n",
       "    </tr>\n",
       "    <tr>\n",
       "        <td style=\"padding-left: 1em; padding-right: 1em; text-align: center; vertical-align: top\">grade</td>\n",
       "        <td style=\"padding-left: 1em; padding-right: 1em; text-align: center; vertical-align: top\">None</td>\n",
       "        <td style=\"padding-left: 1em; padding-right: 1em; text-align: center; vertical-align: top\">74307.2693312</td>\n",
       "        <td style=\"padding-left: 1em; padding-right: 1em; text-align: center; vertical-align: top\">3956.58438802</td>\n",
       "    </tr>\n",
       "</table>\n",
       "[18 rows x 4 columns]<br/>Note: Only the head of the SFrame is printed.<br/>You can use print_rows(num_rows=m, num_columns=n) to print more rows and columns.\n",
       "</div>"
      ],
      "text/plain": [
       "Columns:\n",
       "\tname\tstr\n",
       "\tindex\tstr\n",
       "\tvalue\tfloat\n",
       "\tstderr\tfloat\n",
       "\n",
       "Rows: 18\n",
       "\n",
       "Data:\n",
       "+-------------+-------+----------------+-----------------+\n",
       "|     name    | index |     value      |      stderr     |\n",
       "+-------------+-------+----------------+-----------------+\n",
       "| (intercept) |  None | -25385147.4235 |  17813237.2588  |\n",
       "|   bedrooms  |  None | 1073.92814291  |  2566.92626864  |\n",
       "|  bathrooms  |  None | 14851.3376437  |  5644.23373031  |\n",
       "| sqft_living |  None | 55.9080038378  |  32891372.3801  |\n",
       "|   sqft_lot  |  None | 0.149690237844 | 0.0763975773707 |\n",
       "|    floors   |  None | 13219.2785623  |  5986.82549405  |\n",
       "|  waterfront |  None | 871322.569906  |  68631.3220133  |\n",
       "|     view    |  None | 56551.2015504  |  4603.37860901  |\n",
       "|  condition  |  None | 10523.3091465  |  4047.53317045  |\n",
       "|    grade    |  None | 74307.2693312  |  3956.58438802  |\n",
       "+-------------+-------+----------------+-----------------+\n",
       "[18 rows x 4 columns]\n",
       "Note: Only the head of the SFrame is printed.\n",
       "You can use print_rows(num_rows=m, num_columns=n) to print more rows and columns."
      ]
     },
     "execution_count": 31,
     "metadata": {},
     "output_type": "execute_result"
    }
   ],
   "source": [
    "regression_model['coefficients']"
   ]
  },
  {
   "cell_type": "code",
   "execution_count": null,
   "metadata": {
    "collapsed": true
   },
   "outputs": [],
   "source": []
  },
  {
   "cell_type": "markdown",
   "metadata": {},
   "source": [
    "import csv\n",
    "csv.register_dialect('myDialect', delimiter='/', quoting=csv.QUOTE_NONE)\n",
    "\n",
    "myFile = open('csvexample4.csv', 'w')  \n",
    "with myFile:  \n",
    "   writer = csv.writer(myFile, dialect='myDialect')\n",
    "   writer.writerows(ls)"
   ]
  }
 ],
 "metadata": {
  "kernelspec": {
   "display_name": "Python 2",
   "language": "python",
   "name": "python2"
  },
  "language_info": {
   "codemirror_mode": {
    "name": "ipython",
    "version": 2
   },
   "file_extension": ".py",
   "mimetype": "text/x-python",
   "name": "python",
   "nbconvert_exporter": "python",
   "pygments_lexer": "ipython2",
   "version": "2.7.11"
  }
 },
 "nbformat": 4,
 "nbformat_minor": 2
}
